{
 "cells": [
  {
   "cell_type": "markdown",
   "id": "30559999-6583-4655-91ae-bf2b0800952d",
   "metadata": {},
   "source": [
    "# **Introduction to Natural Language Processing (NLP)** - NER & Sentiment Analysis\n",
    "\n",
    "**Duke Machine Learning Summer School 2022**\n",
    "\n",
    "In this session, we will focus on applied NLP using higher-level utility functions that abstract-away some of the nuances of both data preparation and model specification using the [spaCy](https://spacy.io/) Python package. Spacy delivers both [speed and near state-of-the-art performance](https://spacy.io/usage/facts-figures#benchmarks) on many common NLP tasks. SpaCy's model architectures are written in [Thinc](https://thinc.ai/), another module that allows easy integration between Tensorflow, PyTorch, and MLMix. While defining neural nets is not the focus of today's discussion, an example can be found [here](https://www.kaggle.com/atulanandjha/bert-testing-on-imdb-dataset-extensive-tutorial). I hope the examples and recipes we will discuss peak your interest and encourage you to dig deeper.\n",
    "\n",
    "As you have likedly ascertained, NLP applications are complex. Common considerations and applications include:\n",
    "- **Sentence boundary detection**\n",
    "- **Tokenization**, splitting text into individual words of punctuation\n",
    "- **Lemmmatization**, converts words to their root form (i.e., went -> go)\n",
    "- **Vectorization**, assigning numerical representations to represent similarities between like words\n",
    "- **Named Entity Recognition (NER)**, detection of things like people, places, and products\n",
    "- **Token/Entity Disambiguation**, how NL-systems differentiate 'go' as verb, board game, or programming language\n",
    "- **Sentiment Analysis**\n",
    "- **Similarity Metrics**\n",
    "\n",
    "For additional information, see the [spaCy tutorials](https://course.spacy.io/en). Let's get started."
   ]
  },
  {
   "cell_type": "markdown",
   "id": "37545ec5-4cb8-487e-8e9a-a3526550dffb",
   "metadata": {},
   "source": [
    "# **1. Motivating Example with NER**"
   ]
  },
  {
   "cell_type": "code",
   "execution_count": 1,
   "id": "680a2ffe-e2c6-4605-be67-1d863d352d82",
   "metadata": {
    "tags": []
   },
   "outputs": [
    {
     "name": "stdout",
     "output_type": "stream",
     "text": [
      "Collecting spacy==3.2\n",
      "  Downloading spacy-3.2.0-cp39-cp39-manylinux_2_17_x86_64.manylinux2014_x86_64.whl (6.0 MB)\n",
      "     |████████████████████████████████| 6.0 MB 32.7 MB/s            \n",
      "\u001b[?25hRequirement already satisfied: numpy>=1.15.0 in /opt/conda/lib/python3.9/site-packages (from spacy==3.2) (1.21.5)\n",
      "Requirement already satisfied: tqdm<5.0.0,>=4.38.0 in /opt/conda/lib/python3.9/site-packages (from spacy==3.2) (4.62.3)\n",
      "Requirement already satisfied: packaging>=20.0 in /opt/conda/lib/python3.9/site-packages (from spacy==3.2) (21.3)\n",
      "Collecting langcodes<4.0.0,>=3.2.0\n",
      "  Downloading langcodes-3.3.0-py3-none-any.whl (181 kB)\n",
      "     |████████████████████████████████| 181 kB 89.9 MB/s            \n",
      "\u001b[?25hCollecting cymem<2.1.0,>=2.0.2\n",
      "  Downloading cymem-2.0.6-cp39-cp39-manylinux_2_17_x86_64.manylinux2014_x86_64.whl (35 kB)\n",
      "Collecting srsly<3.0.0,>=2.4.1\n",
      "  Downloading srsly-2.4.3-cp39-cp39-manylinux_2_17_x86_64.manylinux2014_x86_64.whl (457 kB)\n",
      "     |████████████████████████████████| 457 kB 75.5 MB/s            \n",
      "\u001b[?25hCollecting pathy>=0.3.5\n",
      "  Downloading pathy-0.6.1-py3-none-any.whl (42 kB)\n",
      "     |████████████████████████████████| 42 kB 1.4 MB/s             \n",
      "\u001b[?25hCollecting catalogue<2.1.0,>=2.0.6\n",
      "  Downloading catalogue-2.0.7-py3-none-any.whl (17 kB)\n",
      "Collecting pydantic!=1.8,!=1.8.1,<1.9.0,>=1.7.4\n",
      "  Downloading pydantic-1.8.2-cp39-cp39-manylinux2014_x86_64.whl (11.3 MB)\n",
      "     |████████████████████████████████| 11.3 MB 75.6 MB/s            \n",
      "\u001b[?25hRequirement already satisfied: jinja2 in /opt/conda/lib/python3.9/site-packages (from spacy==3.2) (3.0.3)\n",
      "Collecting wasabi<1.1.0,>=0.8.1\n",
      "  Downloading wasabi-0.9.1-py3-none-any.whl (26 kB)\n",
      "Collecting typer<0.5.0,>=0.3.0\n",
      "  Downloading typer-0.4.1-py3-none-any.whl (27 kB)\n",
      "Collecting spacy-loggers<2.0.0,>=1.0.0\n",
      "  Downloading spacy_loggers-1.0.2-py3-none-any.whl (7.2 kB)\n",
      "Collecting thinc<8.1.0,>=8.0.12\n",
      "  Downloading thinc-8.0.17-cp39-cp39-manylinux_2_17_x86_64.manylinux2014_x86_64.whl (668 kB)\n",
      "     |████████████████████████████████| 668 kB 48.5 MB/s            \n",
      "\u001b[?25hRequirement already satisfied: requests<3.0.0,>=2.13.0 in /opt/conda/lib/python3.9/site-packages (from spacy==3.2) (2.26.0)\n",
      "Collecting preshed<3.1.0,>=3.0.2\n",
      "  Downloading preshed-3.0.6-cp39-cp39-manylinux_2_5_x86_64.manylinux1_x86_64.manylinux_2_17_x86_64.manylinux2014_x86_64.whl (128 kB)\n",
      "     |████████████████████████████████| 128 kB 53.2 MB/s            \n",
      "\u001b[?25hCollecting murmurhash<1.1.0,>=0.28.0\n",
      "  Downloading murmurhash-1.0.7-cp39-cp39-manylinux_2_5_x86_64.manylinux1_x86_64.manylinux_2_17_x86_64.manylinux2014_x86_64.whl (21 kB)\n",
      "Collecting spacy-legacy<3.1.0,>=3.0.8\n",
      "  Downloading spacy_legacy-3.0.9-py2.py3-none-any.whl (20 kB)\n",
      "Collecting blis<0.8.0,>=0.4.0\n",
      "  Downloading blis-0.7.7-cp39-cp39-manylinux_2_17_x86_64.manylinux2014_x86_64.whl (9.9 MB)\n",
      "     |████████████████████████████████| 9.9 MB 51.1 MB/s            \n",
      "\u001b[?25hRequirement already satisfied: setuptools in /opt/conda/lib/python3.9/site-packages (from spacy==3.2) (60.2.0)\n",
      "Requirement already satisfied: pyparsing!=3.0.5,>=2.0.2 in /opt/conda/lib/python3.9/site-packages (from packaging>=20.0->spacy==3.2) (3.0.6)\n",
      "Collecting smart-open<6.0.0,>=5.0.0\n",
      "  Downloading smart_open-5.2.1-py3-none-any.whl (58 kB)\n",
      "     |████████████████████████████████| 58 kB 5.5 MB/s             \n",
      "\u001b[?25hRequirement already satisfied: typing-extensions>=3.7.4.3 in /opt/conda/lib/python3.9/site-packages (from pydantic!=1.8,!=1.8.1,<1.9.0,>=1.7.4->spacy==3.2) (4.0.1)\n",
      "Requirement already satisfied: certifi>=2017.4.17 in /opt/conda/lib/python3.9/site-packages (from requests<3.0.0,>=2.13.0->spacy==3.2) (2021.10.8)\n",
      "Requirement already satisfied: charset-normalizer~=2.0.0 in /opt/conda/lib/python3.9/site-packages (from requests<3.0.0,>=2.13.0->spacy==3.2) (2.0.9)\n",
      "Requirement already satisfied: urllib3<1.27,>=1.21.1 in /opt/conda/lib/python3.9/site-packages (from requests<3.0.0,>=2.13.0->spacy==3.2) (1.26.7)\n",
      "Requirement already satisfied: idna<4,>=2.5 in /opt/conda/lib/python3.9/site-packages (from requests<3.0.0,>=2.13.0->spacy==3.2) (3.1)\n",
      "Collecting click<9.0.0,>=7.1.1\n",
      "  Downloading click-8.1.3-py3-none-any.whl (96 kB)\n",
      "     |████████████████████████████████| 96 kB 4.3 MB/s             \n",
      "\u001b[?25hRequirement already satisfied: MarkupSafe>=2.0 in /opt/conda/lib/python3.9/site-packages (from jinja2->spacy==3.2) (2.0.1)\n",
      "Installing collected packages: murmurhash, cymem, click, catalogue, wasabi, typer, srsly, smart-open, pydantic, preshed, blis, thinc, spacy-loggers, spacy-legacy, pathy, langcodes, spacy\n",
      "Successfully installed blis-0.7.7 catalogue-2.0.7 click-8.1.3 cymem-2.0.6 langcodes-3.3.0 murmurhash-1.0.7 pathy-0.6.1 preshed-3.0.6 pydantic-1.8.2 smart-open-5.2.1 spacy-3.2.0 spacy-legacy-3.0.9 spacy-loggers-1.0.2 srsly-2.4.3 thinc-8.0.17 typer-0.4.1 wasabi-0.9.1\n",
      "Collecting en-core-web-sm==3.2.0\n",
      "  Downloading https://github.com/explosion/spacy-models/releases/download/en_core_web_sm-3.2.0/en_core_web_sm-3.2.0-py3-none-any.whl (13.9 MB)\n",
      "     |████████████████████████████████| 13.9 MB 21.2 MB/s            \n",
      "\u001b[?25hRequirement already satisfied: spacy<3.3.0,>=3.2.0 in /opt/conda/lib/python3.9/site-packages (from en-core-web-sm==3.2.0) (3.2.0)\n",
      "Requirement already satisfied: typer<0.5.0,>=0.3.0 in /opt/conda/lib/python3.9/site-packages (from spacy<3.3.0,>=3.2.0->en-core-web-sm==3.2.0) (0.4.1)\n",
      "Requirement already satisfied: wasabi<1.1.0,>=0.8.1 in /opt/conda/lib/python3.9/site-packages (from spacy<3.3.0,>=3.2.0->en-core-web-sm==3.2.0) (0.9.1)\n",
      "Requirement already satisfied: setuptools in /opt/conda/lib/python3.9/site-packages (from spacy<3.3.0,>=3.2.0->en-core-web-sm==3.2.0) (60.2.0)\n",
      "Requirement already satisfied: cymem<2.1.0,>=2.0.2 in /opt/conda/lib/python3.9/site-packages (from spacy<3.3.0,>=3.2.0->en-core-web-sm==3.2.0) (2.0.6)\n",
      "Requirement already satisfied: requests<3.0.0,>=2.13.0 in /opt/conda/lib/python3.9/site-packages (from spacy<3.3.0,>=3.2.0->en-core-web-sm==3.2.0) (2.26.0)\n",
      "Requirement already satisfied: spacy-legacy<3.1.0,>=3.0.8 in /opt/conda/lib/python3.9/site-packages (from spacy<3.3.0,>=3.2.0->en-core-web-sm==3.2.0) (3.0.9)\n",
      "Requirement already satisfied: catalogue<2.1.0,>=2.0.6 in /opt/conda/lib/python3.9/site-packages (from spacy<3.3.0,>=3.2.0->en-core-web-sm==3.2.0) (2.0.7)\n",
      "Requirement already satisfied: srsly<3.0.0,>=2.4.1 in /opt/conda/lib/python3.9/site-packages (from spacy<3.3.0,>=3.2.0->en-core-web-sm==3.2.0) (2.4.3)\n",
      "Requirement already satisfied: thinc<8.1.0,>=8.0.12 in /opt/conda/lib/python3.9/site-packages (from spacy<3.3.0,>=3.2.0->en-core-web-sm==3.2.0) (8.0.17)\n",
      "Requirement already satisfied: numpy>=1.15.0 in /opt/conda/lib/python3.9/site-packages (from spacy<3.3.0,>=3.2.0->en-core-web-sm==3.2.0) (1.21.5)\n",
      "Requirement already satisfied: pydantic!=1.8,!=1.8.1,<1.9.0,>=1.7.4 in /opt/conda/lib/python3.9/site-packages (from spacy<3.3.0,>=3.2.0->en-core-web-sm==3.2.0) (1.8.2)\n",
      "Requirement already satisfied: pathy>=0.3.5 in /opt/conda/lib/python3.9/site-packages (from spacy<3.3.0,>=3.2.0->en-core-web-sm==3.2.0) (0.6.1)\n",
      "Requirement already satisfied: langcodes<4.0.0,>=3.2.0 in /opt/conda/lib/python3.9/site-packages (from spacy<3.3.0,>=3.2.0->en-core-web-sm==3.2.0) (3.3.0)\n",
      "Requirement already satisfied: tqdm<5.0.0,>=4.38.0 in /opt/conda/lib/python3.9/site-packages (from spacy<3.3.0,>=3.2.0->en-core-web-sm==3.2.0) (4.62.3)\n",
      "Requirement already satisfied: spacy-loggers<2.0.0,>=1.0.0 in /opt/conda/lib/python3.9/site-packages (from spacy<3.3.0,>=3.2.0->en-core-web-sm==3.2.0) (1.0.2)\n",
      "Requirement already satisfied: packaging>=20.0 in /opt/conda/lib/python3.9/site-packages (from spacy<3.3.0,>=3.2.0->en-core-web-sm==3.2.0) (21.3)\n",
      "Requirement already satisfied: blis<0.8.0,>=0.4.0 in /opt/conda/lib/python3.9/site-packages (from spacy<3.3.0,>=3.2.0->en-core-web-sm==3.2.0) (0.7.7)\n",
      "Requirement already satisfied: jinja2 in /opt/conda/lib/python3.9/site-packages (from spacy<3.3.0,>=3.2.0->en-core-web-sm==3.2.0) (3.0.3)\n",
      "Requirement already satisfied: murmurhash<1.1.0,>=0.28.0 in /opt/conda/lib/python3.9/site-packages (from spacy<3.3.0,>=3.2.0->en-core-web-sm==3.2.0) (1.0.7)\n",
      "Requirement already satisfied: preshed<3.1.0,>=3.0.2 in /opt/conda/lib/python3.9/site-packages (from spacy<3.3.0,>=3.2.0->en-core-web-sm==3.2.0) (3.0.6)\n",
      "Requirement already satisfied: pyparsing!=3.0.5,>=2.0.2 in /opt/conda/lib/python3.9/site-packages (from packaging>=20.0->spacy<3.3.0,>=3.2.0->en-core-web-sm==3.2.0) (3.0.6)\n",
      "Requirement already satisfied: smart-open<6.0.0,>=5.0.0 in /opt/conda/lib/python3.9/site-packages (from pathy>=0.3.5->spacy<3.3.0,>=3.2.0->en-core-web-sm==3.2.0) (5.2.1)\n",
      "Requirement already satisfied: typing-extensions>=3.7.4.3 in /opt/conda/lib/python3.9/site-packages (from pydantic!=1.8,!=1.8.1,<1.9.0,>=1.7.4->spacy<3.3.0,>=3.2.0->en-core-web-sm==3.2.0) (4.0.1)\n",
      "Requirement already satisfied: urllib3<1.27,>=1.21.1 in /opt/conda/lib/python3.9/site-packages (from requests<3.0.0,>=2.13.0->spacy<3.3.0,>=3.2.0->en-core-web-sm==3.2.0) (1.26.7)\n",
      "Requirement already satisfied: certifi>=2017.4.17 in /opt/conda/lib/python3.9/site-packages (from requests<3.0.0,>=2.13.0->spacy<3.3.0,>=3.2.0->en-core-web-sm==3.2.0) (2021.10.8)\n",
      "Requirement already satisfied: idna<4,>=2.5 in /opt/conda/lib/python3.9/site-packages (from requests<3.0.0,>=2.13.0->spacy<3.3.0,>=3.2.0->en-core-web-sm==3.2.0) (3.1)\n",
      "Requirement already satisfied: charset-normalizer~=2.0.0 in /opt/conda/lib/python3.9/site-packages (from requests<3.0.0,>=2.13.0->spacy<3.3.0,>=3.2.0->en-core-web-sm==3.2.0) (2.0.9)\n",
      "Requirement already satisfied: click<9.0.0,>=7.1.1 in /opt/conda/lib/python3.9/site-packages (from typer<0.5.0,>=0.3.0->spacy<3.3.0,>=3.2.0->en-core-web-sm==3.2.0) (8.1.3)\n",
      "Requirement already satisfied: MarkupSafe>=2.0 in /opt/conda/lib/python3.9/site-packages (from jinja2->spacy<3.3.0,>=3.2.0->en-core-web-sm==3.2.0) (2.0.1)\n",
      "Installing collected packages: en-core-web-sm\n",
      "Successfully installed en-core-web-sm-3.2.0\n",
      "\u001b[38;5;2m✔ Download and installation successful\u001b[0m\n",
      "You can now load the package via spacy.load('en_core_web_sm')\n",
      "Collecting en-core-web-md==3.2.0\n",
      "  Downloading https://github.com/explosion/spacy-models/releases/download/en_core_web_md-3.2.0/en_core_web_md-3.2.0-py3-none-any.whl (45.7 MB)\n",
      "     |████████████████████████████████| 45.7 MB 25.9 MB/s            \n",
      "\u001b[?25hRequirement already satisfied: spacy<3.3.0,>=3.2.0 in /opt/conda/lib/python3.9/site-packages (from en-core-web-md==3.2.0) (3.2.0)\n",
      "Requirement already satisfied: srsly<3.0.0,>=2.4.1 in /opt/conda/lib/python3.9/site-packages (from spacy<3.3.0,>=3.2.0->en-core-web-md==3.2.0) (2.4.3)\n",
      "Requirement already satisfied: pydantic!=1.8,!=1.8.1,<1.9.0,>=1.7.4 in /opt/conda/lib/python3.9/site-packages (from spacy<3.3.0,>=3.2.0->en-core-web-md==3.2.0) (1.8.2)\n",
      "Requirement already satisfied: numpy>=1.15.0 in /opt/conda/lib/python3.9/site-packages (from spacy<3.3.0,>=3.2.0->en-core-web-md==3.2.0) (1.21.5)\n",
      "Requirement already satisfied: thinc<8.1.0,>=8.0.12 in /opt/conda/lib/python3.9/site-packages (from spacy<3.3.0,>=3.2.0->en-core-web-md==3.2.0) (8.0.17)\n",
      "Requirement already satisfied: cymem<2.1.0,>=2.0.2 in /opt/conda/lib/python3.9/site-packages (from spacy<3.3.0,>=3.2.0->en-core-web-md==3.2.0) (2.0.6)\n",
      "Requirement already satisfied: setuptools in /opt/conda/lib/python3.9/site-packages (from spacy<3.3.0,>=3.2.0->en-core-web-md==3.2.0) (60.2.0)\n",
      "Requirement already satisfied: catalogue<2.1.0,>=2.0.6 in /opt/conda/lib/python3.9/site-packages (from spacy<3.3.0,>=3.2.0->en-core-web-md==3.2.0) (2.0.7)\n",
      "Requirement already satisfied: spacy-legacy<3.1.0,>=3.0.8 in /opt/conda/lib/python3.9/site-packages (from spacy<3.3.0,>=3.2.0->en-core-web-md==3.2.0) (3.0.9)\n",
      "Requirement already satisfied: preshed<3.1.0,>=3.0.2 in /opt/conda/lib/python3.9/site-packages (from spacy<3.3.0,>=3.2.0->en-core-web-md==3.2.0) (3.0.6)\n",
      "Requirement already satisfied: langcodes<4.0.0,>=3.2.0 in /opt/conda/lib/python3.9/site-packages (from spacy<3.3.0,>=3.2.0->en-core-web-md==3.2.0) (3.3.0)\n",
      "Requirement already satisfied: typer<0.5.0,>=0.3.0 in /opt/conda/lib/python3.9/site-packages (from spacy<3.3.0,>=3.2.0->en-core-web-md==3.2.0) (0.4.1)\n",
      "Requirement already satisfied: jinja2 in /opt/conda/lib/python3.9/site-packages (from spacy<3.3.0,>=3.2.0->en-core-web-md==3.2.0) (3.0.3)\n",
      "Requirement already satisfied: packaging>=20.0 in /opt/conda/lib/python3.9/site-packages (from spacy<3.3.0,>=3.2.0->en-core-web-md==3.2.0) (21.3)\n",
      "Requirement already satisfied: murmurhash<1.1.0,>=0.28.0 in /opt/conda/lib/python3.9/site-packages (from spacy<3.3.0,>=3.2.0->en-core-web-md==3.2.0) (1.0.7)\n",
      "Requirement already satisfied: pathy>=0.3.5 in /opt/conda/lib/python3.9/site-packages (from spacy<3.3.0,>=3.2.0->en-core-web-md==3.2.0) (0.6.1)\n",
      "Requirement already satisfied: spacy-loggers<2.0.0,>=1.0.0 in /opt/conda/lib/python3.9/site-packages (from spacy<3.3.0,>=3.2.0->en-core-web-md==3.2.0) (1.0.2)\n",
      "Requirement already satisfied: tqdm<5.0.0,>=4.38.0 in /opt/conda/lib/python3.9/site-packages (from spacy<3.3.0,>=3.2.0->en-core-web-md==3.2.0) (4.62.3)\n",
      "Requirement already satisfied: blis<0.8.0,>=0.4.0 in /opt/conda/lib/python3.9/site-packages (from spacy<3.3.0,>=3.2.0->en-core-web-md==3.2.0) (0.7.7)\n",
      "Requirement already satisfied: wasabi<1.1.0,>=0.8.1 in /opt/conda/lib/python3.9/site-packages (from spacy<3.3.0,>=3.2.0->en-core-web-md==3.2.0) (0.9.1)\n",
      "Requirement already satisfied: requests<3.0.0,>=2.13.0 in /opt/conda/lib/python3.9/site-packages (from spacy<3.3.0,>=3.2.0->en-core-web-md==3.2.0) (2.26.0)\n",
      "Requirement already satisfied: pyparsing!=3.0.5,>=2.0.2 in /opt/conda/lib/python3.9/site-packages (from packaging>=20.0->spacy<3.3.0,>=3.2.0->en-core-web-md==3.2.0) (3.0.6)\n",
      "Requirement already satisfied: smart-open<6.0.0,>=5.0.0 in /opt/conda/lib/python3.9/site-packages (from pathy>=0.3.5->spacy<3.3.0,>=3.2.0->en-core-web-md==3.2.0) (5.2.1)\n",
      "Requirement already satisfied: typing-extensions>=3.7.4.3 in /opt/conda/lib/python3.9/site-packages (from pydantic!=1.8,!=1.8.1,<1.9.0,>=1.7.4->spacy<3.3.0,>=3.2.0->en-core-web-md==3.2.0) (4.0.1)\n",
      "Requirement already satisfied: urllib3<1.27,>=1.21.1 in /opt/conda/lib/python3.9/site-packages (from requests<3.0.0,>=2.13.0->spacy<3.3.0,>=3.2.0->en-core-web-md==3.2.0) (1.26.7)\n",
      "Requirement already satisfied: idna<4,>=2.5 in /opt/conda/lib/python3.9/site-packages (from requests<3.0.0,>=2.13.0->spacy<3.3.0,>=3.2.0->en-core-web-md==3.2.0) (3.1)\n",
      "Requirement already satisfied: charset-normalizer~=2.0.0 in /opt/conda/lib/python3.9/site-packages (from requests<3.0.0,>=2.13.0->spacy<3.3.0,>=3.2.0->en-core-web-md==3.2.0) (2.0.9)\n",
      "Requirement already satisfied: certifi>=2017.4.17 in /opt/conda/lib/python3.9/site-packages (from requests<3.0.0,>=2.13.0->spacy<3.3.0,>=3.2.0->en-core-web-md==3.2.0) (2021.10.8)\n",
      "Requirement already satisfied: click<9.0.0,>=7.1.1 in /opt/conda/lib/python3.9/site-packages (from typer<0.5.0,>=0.3.0->spacy<3.3.0,>=3.2.0->en-core-web-md==3.2.0) (8.1.3)\n",
      "Requirement already satisfied: MarkupSafe>=2.0 in /opt/conda/lib/python3.9/site-packages (from jinja2->spacy<3.3.0,>=3.2.0->en-core-web-md==3.2.0) (2.0.1)\n",
      "Installing collected packages: en-core-web-md\n",
      "Successfully installed en-core-web-md-3.2.0\n",
      "\u001b[38;5;2m✔ Download and installation successful\u001b[0m\n",
      "You can now load the package via spacy.load('en_core_web_md')\n"
     ]
    }
   ],
   "source": [
    "!python -m pip install spacy==3.2\n",
    "!python -m spacy download en_core_web_sm \n",
    "!python -m spacy download en_core_web_md "
   ]
  },
  {
   "cell_type": "code",
   "execution_count": 2,
   "id": "d6f4dbe7-c21a-456d-8f3c-c33404069fa6",
   "metadata": {},
   "outputs": [
    {
     "name": "stdout",
     "output_type": "stream",
     "text": [
      "Archive:  ./duke_sum_nlp.zip\n",
      "  inflating: base_config.cfg         \n",
      "  inflating: config.cfg              \n",
      "  inflating: train.spacy             \n",
      "   creating: trained_textcat_model/\n",
      "   creating: trained_textcat_model/model-best/\n",
      "  inflating: trained_textcat_model/model-best/config.cfg  \n",
      "  inflating: trained_textcat_model/model-best/meta.json  \n",
      "   creating: trained_textcat_model/model-best/textcat/\n",
      "  inflating: trained_textcat_model/model-best/textcat/cfg  \n",
      "  inflating: trained_textcat_model/model-best/textcat/model  \n",
      "  inflating: trained_textcat_model/model-best/tokenizer  \n",
      "   creating: trained_textcat_model/model-best/vocab/\n",
      " extracting: trained_textcat_model/model-best/vocab/key2row  \n",
      " extracting: trained_textcat_model/model-best/vocab/lookups.bin  \n",
      "  inflating: trained_textcat_model/model-best/vocab/strings.json  \n",
      "  inflating: trained_textcat_model/model-best/vocab/vectors  \n",
      " extracting: trained_textcat_model/model-best/vocab/vectors.cfg  \n",
      "   creating: trained_textcat_model/model-last/\n",
      "  inflating: trained_textcat_model/model-last/config.cfg  \n",
      "  inflating: trained_textcat_model/model-last/meta.json  \n",
      "   creating: trained_textcat_model/model-last/textcat/\n",
      "  inflating: trained_textcat_model/model-last/textcat/cfg  \n",
      "  inflating: trained_textcat_model/model-last/textcat/model  \n",
      "  inflating: trained_textcat_model/model-last/tokenizer  \n",
      "   creating: trained_textcat_model/model-last/vocab/\n",
      " extracting: trained_textcat_model/model-last/vocab/key2row  \n",
      " extracting: trained_textcat_model/model-last/vocab/lookups.bin  \n",
      "  inflating: trained_textcat_model/model-last/vocab/strings.json  \n",
      "  inflating: trained_textcat_model/model-last/vocab/vectors  \n",
      " extracting: trained_textcat_model/model-last/vocab/vectors.cfg  \n",
      "  inflating: valid.spacy             \n"
     ]
    }
   ],
   "source": [
    "!unzip ./duke_sum_nlp.zip"
   ]
  },
  {
   "cell_type": "code",
   "execution_count": 3,
   "id": "1b693f26-5f73-45bb-8353-9827062b98ef",
   "metadata": {},
   "outputs": [],
   "source": [
    "import pandas as pd\n",
    "import spacy\n",
    "from spacy import displacy"
   ]
  },
  {
   "cell_type": "code",
   "execution_count": 4,
   "id": "df917c14-5568-477b-b891-1274b8f2fb02",
   "metadata": {},
   "outputs": [
    {
     "data": {
      "text/html": [
       "<span class=\"tex2jax_ignore\"><div class=\"entities\" style=\"line-height: 2.5; direction: ltr\">\n",
       "<mark class=\"entity\" style=\"background: #7aecec; padding: 0.45em 0.6em; margin: 0 0.25em; line-height: 1; border-radius: 0.35em;\">\n",
       "    Amazon\n",
       "    <span style=\"font-size: 0.8em; font-weight: bold; line-height: 1; border-radius: 0.35em; vertical-align: middle; margin-left: 0.5rem\">ORG</span>\n",
       "</mark>\n",
       " and \n",
       "<mark class=\"entity\" style=\"background: #7aecec; padding: 0.45em 0.6em; margin: 0 0.25em; line-height: 1; border-radius: 0.35em;\">\n",
       "    Google\n",
       "    <span style=\"font-size: 0.8em; font-weight: bold; line-height: 1; border-radius: 0.35em; vertical-align: middle; margin-left: 0.5rem\">ORG</span>\n",
       "</mark>\n",
       " have each annonced \n",
       "<mark class=\"entity\" style=\"background: #e4e7d2; padding: 0.45em 0.6em; margin: 0 0.25em; line-height: 1; border-radius: 0.35em;\">\n",
       "    20:1\n",
       "    <span style=\"font-size: 0.8em; font-weight: bold; line-height: 1; border-radius: 0.35em; vertical-align: middle; margin-left: 0.5rem\">CARDINAL</span>\n",
       "</mark>\n",
       " stock splits to occur in \n",
       "<mark class=\"entity\" style=\"background: #bfe1d9; padding: 0.45em 0.6em; margin: 0 0.25em; line-height: 1; border-radius: 0.35em;\">\n",
       "    June 2022\n",
       "    <span style=\"font-size: 0.8em; font-weight: bold; line-height: 1; border-radius: 0.35em; vertical-align: middle; margin-left: 0.5rem\">DATE</span>\n",
       "</mark>\n",
       ".</div></span>"
      ],
      "text/plain": [
       "<IPython.core.display.HTML object>"
      ]
     },
     "metadata": {},
     "output_type": "display_data"
    }
   ],
   "source": [
    "nlp = spacy.load(\"en_core_web_sm\")\n",
    "\n",
    "# Process whole documents\n",
    "text = (\"Amazon and Google have each annonced 20:1 stock splits to occur in June 2022.\")\n",
    "doc = nlp(text)\n",
    "\n",
    "displacy.render(doc, style=\"ent\", jupyter=True)"
   ]
  },
  {
   "cell_type": "markdown",
   "id": "a90cf3a8-9327-462b-95e3-2feb0b0efd71",
   "metadata": {},
   "source": [
    "It is not immediately apparent looking at the code, but under the hood, this code is running 5 to 6 different models to segment sentences and words; identify linguistic dependencies; vectorize text for semantic meaning; identify entities; and more. We can have a look at whats under the hood for a given pipeline with the following:"
   ]
  },
  {
   "cell_type": "code",
   "execution_count": 5,
   "id": "c601ad70-0c64-49a9-93fc-d93159ec3cda",
   "metadata": {},
   "outputs": [
    {
     "name": "stdout",
     "output_type": "stream",
     "text": [
      "('tok2vec', <spacy.pipeline.tok2vec.Tok2Vec object at 0x7f39c340fee0>)\n",
      "('tagger', <spacy.pipeline.tagger.Tagger object at 0x7f39c340ff40>)\n",
      "('parser', <spacy.pipeline.dep_parser.DependencyParser object at 0x7f39c33850b0>)\n",
      "('attribute_ruler', <spacy.pipeline.attributeruler.AttributeRuler object at 0x7f39c3391700>)\n",
      "('lemmatizer', <spacy.lang.en.lemmatizer.EnglishLemmatizer object at 0x7f39c33ad3c0>)\n",
      "('ner', <spacy.pipeline.ner.EntityRecognizer object at 0x7f39c3385200>)\n"
     ]
    }
   ],
   "source": [
    "for p in nlp.pipeline:\n",
    "  print(p)"
   ]
  },
  {
   "cell_type": "markdown",
   "id": "ed103987-15aa-437a-9cf8-026c7dfcc5ae",
   "metadata": {},
   "source": [
    "![image.png](data:image/png;base64,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)"
   ]
  },
  {
   "cell_type": "markdown",
   "id": "0daaa59d-535a-41ac-971e-72832857703f",
   "metadata": {},
   "source": [
    "## 1.1 Tokenized Text"
   ]
  },
  {
   "cell_type": "code",
   "execution_count": 6,
   "id": "8f63304f-7996-429b-9ee2-6b0ed36424c3",
   "metadata": {},
   "outputs": [
    {
     "name": "stdout",
     "output_type": "stream",
     "text": [
      "[Amazon, and, Google, have, each, annonced, 20:1, stock, splits, to, occur, in, June, 2022, .]\n"
     ]
    }
   ],
   "source": [
    "print([t for t in doc])"
   ]
  },
  {
   "cell_type": "code",
   "execution_count": 8,
   "id": "c89fb1fd-490d-4d51-983b-ab9f7aeaf235",
   "metadata": {},
   "outputs": [
    {
     "name": "stdout",
     "output_type": "stream",
     "text": [
      "0 ,  Amazon ,  PROPN ,  NNP ,  nsubj ,  ORG\n",
      "7 ,  and ,  CCONJ ,  CC ,  cc ,  \n",
      "11 ,  Google ,  PROPN ,  NNP ,  conj ,  ORG\n",
      "18 ,  have ,  AUX ,  VBP ,  aux ,  \n",
      "23 ,  each ,  PRON ,  DT ,  dep ,  \n",
      "28 ,  annonced ,  VERB ,  VBN ,  ROOT ,  \n",
      "37 ,  20:1 ,  NUM ,  CD ,  nummod ,  CARDINAL\n",
      "42 ,  stock ,  NOUN ,  NN ,  compound ,  \n",
      "48 ,  splits ,  NOUN ,  NNS ,  dobj ,  \n",
      "55 ,  to ,  PART ,  TO ,  aux ,  \n",
      "58 ,  occur ,  VERB ,  VB ,  relcl ,  \n",
      "64 ,  in ,  ADP ,  IN ,  prep ,  \n",
      "67 ,  June ,  PROPN ,  NNP ,  pobj ,  DATE\n",
      "72 ,  2022 ,  NUM ,  CD ,  nummod ,  DATE\n",
      "76 ,  . ,  PUNCT ,  . ,  punct ,  \n"
     ]
    }
   ],
   "source": [
    "for t in doc:\n",
    "  print(t.idx, ', ', t.text, ', ', t.pos_, ', ', t.tag_, ', ', t.dep_, ', ', t.ent_type_)"
   ]
  },
  {
   "cell_type": "code",
   "execution_count": 9,
   "id": "c74ed76e-4b18-4f8a-ad2a-1d659cfd6b3d",
   "metadata": {},
   "outputs": [
    {
     "data": {
      "text/html": [
       "<span class=\"tex2jax_ignore\"><svg xmlns=\"http://www.w3.org/2000/svg\" xmlns:xlink=\"http://www.w3.org/1999/xlink\" xml:lang=\"en\" id=\"65518d090e2045f6b5f43cd37f48baab-0\" class=\"displacy\" width=\"2500\" height=\"487.0\" direction=\"ltr\" style=\"max-width: none; height: 487.0px; color: #000000; background: #ffffff; font-family: Arial; direction: ltr\">\n",
       "<text class=\"displacy-token\" fill=\"currentColor\" text-anchor=\"middle\" y=\"397.0\">\n",
       "    <tspan class=\"displacy-word\" fill=\"currentColor\" x=\"50\">Amazon</tspan>\n",
       "    <tspan class=\"displacy-tag\" dy=\"2em\" fill=\"currentColor\" x=\"50\">PROPN</tspan>\n",
       "</text>\n",
       "\n",
       "<text class=\"displacy-token\" fill=\"currentColor\" text-anchor=\"middle\" y=\"397.0\">\n",
       "    <tspan class=\"displacy-word\" fill=\"currentColor\" x=\"225\">and</tspan>\n",
       "    <tspan class=\"displacy-tag\" dy=\"2em\" fill=\"currentColor\" x=\"225\">CCONJ</tspan>\n",
       "</text>\n",
       "\n",
       "<text class=\"displacy-token\" fill=\"currentColor\" text-anchor=\"middle\" y=\"397.0\">\n",
       "    <tspan class=\"displacy-word\" fill=\"currentColor\" x=\"400\">Google</tspan>\n",
       "    <tspan class=\"displacy-tag\" dy=\"2em\" fill=\"currentColor\" x=\"400\">PROPN</tspan>\n",
       "</text>\n",
       "\n",
       "<text class=\"displacy-token\" fill=\"currentColor\" text-anchor=\"middle\" y=\"397.0\">\n",
       "    <tspan class=\"displacy-word\" fill=\"currentColor\" x=\"575\">have</tspan>\n",
       "    <tspan class=\"displacy-tag\" dy=\"2em\" fill=\"currentColor\" x=\"575\">AUX</tspan>\n",
       "</text>\n",
       "\n",
       "<text class=\"displacy-token\" fill=\"currentColor\" text-anchor=\"middle\" y=\"397.0\">\n",
       "    <tspan class=\"displacy-word\" fill=\"currentColor\" x=\"750\">each</tspan>\n",
       "    <tspan class=\"displacy-tag\" dy=\"2em\" fill=\"currentColor\" x=\"750\">PRON</tspan>\n",
       "</text>\n",
       "\n",
       "<text class=\"displacy-token\" fill=\"currentColor\" text-anchor=\"middle\" y=\"397.0\">\n",
       "    <tspan class=\"displacy-word\" fill=\"currentColor\" x=\"925\">annonced</tspan>\n",
       "    <tspan class=\"displacy-tag\" dy=\"2em\" fill=\"currentColor\" x=\"925\">VERB</tspan>\n",
       "</text>\n",
       "\n",
       "<text class=\"displacy-token\" fill=\"currentColor\" text-anchor=\"middle\" y=\"397.0\">\n",
       "    <tspan class=\"displacy-word\" fill=\"currentColor\" x=\"1100\">20:1</tspan>\n",
       "    <tspan class=\"displacy-tag\" dy=\"2em\" fill=\"currentColor\" x=\"1100\">NUM</tspan>\n",
       "</text>\n",
       "\n",
       "<text class=\"displacy-token\" fill=\"currentColor\" text-anchor=\"middle\" y=\"397.0\">\n",
       "    <tspan class=\"displacy-word\" fill=\"currentColor\" x=\"1275\">stock</tspan>\n",
       "    <tspan class=\"displacy-tag\" dy=\"2em\" fill=\"currentColor\" x=\"1275\">NOUN</tspan>\n",
       "</text>\n",
       "\n",
       "<text class=\"displacy-token\" fill=\"currentColor\" text-anchor=\"middle\" y=\"397.0\">\n",
       "    <tspan class=\"displacy-word\" fill=\"currentColor\" x=\"1450\">splits</tspan>\n",
       "    <tspan class=\"displacy-tag\" dy=\"2em\" fill=\"currentColor\" x=\"1450\">NOUN</tspan>\n",
       "</text>\n",
       "\n",
       "<text class=\"displacy-token\" fill=\"currentColor\" text-anchor=\"middle\" y=\"397.0\">\n",
       "    <tspan class=\"displacy-word\" fill=\"currentColor\" x=\"1625\">to</tspan>\n",
       "    <tspan class=\"displacy-tag\" dy=\"2em\" fill=\"currentColor\" x=\"1625\">PART</tspan>\n",
       "</text>\n",
       "\n",
       "<text class=\"displacy-token\" fill=\"currentColor\" text-anchor=\"middle\" y=\"397.0\">\n",
       "    <tspan class=\"displacy-word\" fill=\"currentColor\" x=\"1800\">occur</tspan>\n",
       "    <tspan class=\"displacy-tag\" dy=\"2em\" fill=\"currentColor\" x=\"1800\">VERB</tspan>\n",
       "</text>\n",
       "\n",
       "<text class=\"displacy-token\" fill=\"currentColor\" text-anchor=\"middle\" y=\"397.0\">\n",
       "    <tspan class=\"displacy-word\" fill=\"currentColor\" x=\"1975\">in</tspan>\n",
       "    <tspan class=\"displacy-tag\" dy=\"2em\" fill=\"currentColor\" x=\"1975\">ADP</tspan>\n",
       "</text>\n",
       "\n",
       "<text class=\"displacy-token\" fill=\"currentColor\" text-anchor=\"middle\" y=\"397.0\">\n",
       "    <tspan class=\"displacy-word\" fill=\"currentColor\" x=\"2150\">June</tspan>\n",
       "    <tspan class=\"displacy-tag\" dy=\"2em\" fill=\"currentColor\" x=\"2150\">PROPN</tspan>\n",
       "</text>\n",
       "\n",
       "<text class=\"displacy-token\" fill=\"currentColor\" text-anchor=\"middle\" y=\"397.0\">\n",
       "    <tspan class=\"displacy-word\" fill=\"currentColor\" x=\"2325\">2022.</tspan>\n",
       "    <tspan class=\"displacy-tag\" dy=\"2em\" fill=\"currentColor\" x=\"2325\">NUM</tspan>\n",
       "</text>\n",
       "\n",
       "<g class=\"displacy-arrow\">\n",
       "    <path class=\"displacy-arc\" id=\"arrow-65518d090e2045f6b5f43cd37f48baab-0-0\" stroke-width=\"2px\" d=\"M70,352.0 C70,2.0 925.0,2.0 925.0,352.0\" fill=\"none\" stroke=\"currentColor\"/>\n",
       "    <text dy=\"1.25em\" style=\"font-size: 0.8em; letter-spacing: 1px\">\n",
       "        <textPath xlink:href=\"#arrow-65518d090e2045f6b5f43cd37f48baab-0-0\" class=\"displacy-label\" startOffset=\"50%\" side=\"left\" fill=\"currentColor\" text-anchor=\"middle\">nsubj</textPath>\n",
       "    </text>\n",
       "    <path class=\"displacy-arrowhead\" d=\"M70,354.0 L62,342.0 78,342.0\" fill=\"currentColor\"/>\n",
       "</g>\n",
       "\n",
       "<g class=\"displacy-arrow\">\n",
       "    <path class=\"displacy-arc\" id=\"arrow-65518d090e2045f6b5f43cd37f48baab-0-1\" stroke-width=\"2px\" d=\"M70,352.0 C70,264.5 210.0,264.5 210.0,352.0\" fill=\"none\" stroke=\"currentColor\"/>\n",
       "    <text dy=\"1.25em\" style=\"font-size: 0.8em; letter-spacing: 1px\">\n",
       "        <textPath xlink:href=\"#arrow-65518d090e2045f6b5f43cd37f48baab-0-1\" class=\"displacy-label\" startOffset=\"50%\" side=\"left\" fill=\"currentColor\" text-anchor=\"middle\">cc</textPath>\n",
       "    </text>\n",
       "    <path class=\"displacy-arrowhead\" d=\"M210.0,354.0 L218.0,342.0 202.0,342.0\" fill=\"currentColor\"/>\n",
       "</g>\n",
       "\n",
       "<g class=\"displacy-arrow\">\n",
       "    <path class=\"displacy-arc\" id=\"arrow-65518d090e2045f6b5f43cd37f48baab-0-2\" stroke-width=\"2px\" d=\"M70,352.0 C70,177.0 390.0,177.0 390.0,352.0\" fill=\"none\" stroke=\"currentColor\"/>\n",
       "    <text dy=\"1.25em\" style=\"font-size: 0.8em; letter-spacing: 1px\">\n",
       "        <textPath xlink:href=\"#arrow-65518d090e2045f6b5f43cd37f48baab-0-2\" class=\"displacy-label\" startOffset=\"50%\" side=\"left\" fill=\"currentColor\" text-anchor=\"middle\">conj</textPath>\n",
       "    </text>\n",
       "    <path class=\"displacy-arrowhead\" d=\"M390.0,354.0 L398.0,342.0 382.0,342.0\" fill=\"currentColor\"/>\n",
       "</g>\n",
       "\n",
       "<g class=\"displacy-arrow\">\n",
       "    <path class=\"displacy-arc\" id=\"arrow-65518d090e2045f6b5f43cd37f48baab-0-3\" stroke-width=\"2px\" d=\"M595,352.0 C595,177.0 915.0,177.0 915.0,352.0\" fill=\"none\" stroke=\"currentColor\"/>\n",
       "    <text dy=\"1.25em\" style=\"font-size: 0.8em; letter-spacing: 1px\">\n",
       "        <textPath xlink:href=\"#arrow-65518d090e2045f6b5f43cd37f48baab-0-3\" class=\"displacy-label\" startOffset=\"50%\" side=\"left\" fill=\"currentColor\" text-anchor=\"middle\">aux</textPath>\n",
       "    </text>\n",
       "    <path class=\"displacy-arrowhead\" d=\"M595,354.0 L587,342.0 603,342.0\" fill=\"currentColor\"/>\n",
       "</g>\n",
       "\n",
       "<g class=\"displacy-arrow\">\n",
       "    <path class=\"displacy-arc\" id=\"arrow-65518d090e2045f6b5f43cd37f48baab-0-4\" stroke-width=\"2px\" d=\"M770,352.0 C770,264.5 910.0,264.5 910.0,352.0\" fill=\"none\" stroke=\"currentColor\"/>\n",
       "    <text dy=\"1.25em\" style=\"font-size: 0.8em; letter-spacing: 1px\">\n",
       "        <textPath xlink:href=\"#arrow-65518d090e2045f6b5f43cd37f48baab-0-4\" class=\"displacy-label\" startOffset=\"50%\" side=\"left\" fill=\"currentColor\" text-anchor=\"middle\">dep</textPath>\n",
       "    </text>\n",
       "    <path class=\"displacy-arrowhead\" d=\"M770,354.0 L762,342.0 778,342.0\" fill=\"currentColor\"/>\n",
       "</g>\n",
       "\n",
       "<g class=\"displacy-arrow\">\n",
       "    <path class=\"displacy-arc\" id=\"arrow-65518d090e2045f6b5f43cd37f48baab-0-5\" stroke-width=\"2px\" d=\"M1120,352.0 C1120,177.0 1440.0,177.0 1440.0,352.0\" fill=\"none\" stroke=\"currentColor\"/>\n",
       "    <text dy=\"1.25em\" style=\"font-size: 0.8em; letter-spacing: 1px\">\n",
       "        <textPath xlink:href=\"#arrow-65518d090e2045f6b5f43cd37f48baab-0-5\" class=\"displacy-label\" startOffset=\"50%\" side=\"left\" fill=\"currentColor\" text-anchor=\"middle\">nummod</textPath>\n",
       "    </text>\n",
       "    <path class=\"displacy-arrowhead\" d=\"M1120,354.0 L1112,342.0 1128,342.0\" fill=\"currentColor\"/>\n",
       "</g>\n",
       "\n",
       "<g class=\"displacy-arrow\">\n",
       "    <path class=\"displacy-arc\" id=\"arrow-65518d090e2045f6b5f43cd37f48baab-0-6\" stroke-width=\"2px\" d=\"M1295,352.0 C1295,264.5 1435.0,264.5 1435.0,352.0\" fill=\"none\" stroke=\"currentColor\"/>\n",
       "    <text dy=\"1.25em\" style=\"font-size: 0.8em; letter-spacing: 1px\">\n",
       "        <textPath xlink:href=\"#arrow-65518d090e2045f6b5f43cd37f48baab-0-6\" class=\"displacy-label\" startOffset=\"50%\" side=\"left\" fill=\"currentColor\" text-anchor=\"middle\">compound</textPath>\n",
       "    </text>\n",
       "    <path class=\"displacy-arrowhead\" d=\"M1295,354.0 L1287,342.0 1303,342.0\" fill=\"currentColor\"/>\n",
       "</g>\n",
       "\n",
       "<g class=\"displacy-arrow\">\n",
       "    <path class=\"displacy-arc\" id=\"arrow-65518d090e2045f6b5f43cd37f48baab-0-7\" stroke-width=\"2px\" d=\"M945,352.0 C945,89.5 1445.0,89.5 1445.0,352.0\" fill=\"none\" stroke=\"currentColor\"/>\n",
       "    <text dy=\"1.25em\" style=\"font-size: 0.8em; letter-spacing: 1px\">\n",
       "        <textPath xlink:href=\"#arrow-65518d090e2045f6b5f43cd37f48baab-0-7\" class=\"displacy-label\" startOffset=\"50%\" side=\"left\" fill=\"currentColor\" text-anchor=\"middle\">dobj</textPath>\n",
       "    </text>\n",
       "    <path class=\"displacy-arrowhead\" d=\"M1445.0,354.0 L1453.0,342.0 1437.0,342.0\" fill=\"currentColor\"/>\n",
       "</g>\n",
       "\n",
       "<g class=\"displacy-arrow\">\n",
       "    <path class=\"displacy-arc\" id=\"arrow-65518d090e2045f6b5f43cd37f48baab-0-8\" stroke-width=\"2px\" d=\"M1645,352.0 C1645,264.5 1785.0,264.5 1785.0,352.0\" fill=\"none\" stroke=\"currentColor\"/>\n",
       "    <text dy=\"1.25em\" style=\"font-size: 0.8em; letter-spacing: 1px\">\n",
       "        <textPath xlink:href=\"#arrow-65518d090e2045f6b5f43cd37f48baab-0-8\" class=\"displacy-label\" startOffset=\"50%\" side=\"left\" fill=\"currentColor\" text-anchor=\"middle\">aux</textPath>\n",
       "    </text>\n",
       "    <path class=\"displacy-arrowhead\" d=\"M1645,354.0 L1637,342.0 1653,342.0\" fill=\"currentColor\"/>\n",
       "</g>\n",
       "\n",
       "<g class=\"displacy-arrow\">\n",
       "    <path class=\"displacy-arc\" id=\"arrow-65518d090e2045f6b5f43cd37f48baab-0-9\" stroke-width=\"2px\" d=\"M1470,352.0 C1470,177.0 1790.0,177.0 1790.0,352.0\" fill=\"none\" stroke=\"currentColor\"/>\n",
       "    <text dy=\"1.25em\" style=\"font-size: 0.8em; letter-spacing: 1px\">\n",
       "        <textPath xlink:href=\"#arrow-65518d090e2045f6b5f43cd37f48baab-0-9\" class=\"displacy-label\" startOffset=\"50%\" side=\"left\" fill=\"currentColor\" text-anchor=\"middle\">relcl</textPath>\n",
       "    </text>\n",
       "    <path class=\"displacy-arrowhead\" d=\"M1790.0,354.0 L1798.0,342.0 1782.0,342.0\" fill=\"currentColor\"/>\n",
       "</g>\n",
       "\n",
       "<g class=\"displacy-arrow\">\n",
       "    <path class=\"displacy-arc\" id=\"arrow-65518d090e2045f6b5f43cd37f48baab-0-10\" stroke-width=\"2px\" d=\"M1820,352.0 C1820,264.5 1960.0,264.5 1960.0,352.0\" fill=\"none\" stroke=\"currentColor\"/>\n",
       "    <text dy=\"1.25em\" style=\"font-size: 0.8em; letter-spacing: 1px\">\n",
       "        <textPath xlink:href=\"#arrow-65518d090e2045f6b5f43cd37f48baab-0-10\" class=\"displacy-label\" startOffset=\"50%\" side=\"left\" fill=\"currentColor\" text-anchor=\"middle\">prep</textPath>\n",
       "    </text>\n",
       "    <path class=\"displacy-arrowhead\" d=\"M1960.0,354.0 L1968.0,342.0 1952.0,342.0\" fill=\"currentColor\"/>\n",
       "</g>\n",
       "\n",
       "<g class=\"displacy-arrow\">\n",
       "    <path class=\"displacy-arc\" id=\"arrow-65518d090e2045f6b5f43cd37f48baab-0-11\" stroke-width=\"2px\" d=\"M1995,352.0 C1995,264.5 2135.0,264.5 2135.0,352.0\" fill=\"none\" stroke=\"currentColor\"/>\n",
       "    <text dy=\"1.25em\" style=\"font-size: 0.8em; letter-spacing: 1px\">\n",
       "        <textPath xlink:href=\"#arrow-65518d090e2045f6b5f43cd37f48baab-0-11\" class=\"displacy-label\" startOffset=\"50%\" side=\"left\" fill=\"currentColor\" text-anchor=\"middle\">pobj</textPath>\n",
       "    </text>\n",
       "    <path class=\"displacy-arrowhead\" d=\"M2135.0,354.0 L2143.0,342.0 2127.0,342.0\" fill=\"currentColor\"/>\n",
       "</g>\n",
       "\n",
       "<g class=\"displacy-arrow\">\n",
       "    <path class=\"displacy-arc\" id=\"arrow-65518d090e2045f6b5f43cd37f48baab-0-12\" stroke-width=\"2px\" d=\"M2170,352.0 C2170,264.5 2310.0,264.5 2310.0,352.0\" fill=\"none\" stroke=\"currentColor\"/>\n",
       "    <text dy=\"1.25em\" style=\"font-size: 0.8em; letter-spacing: 1px\">\n",
       "        <textPath xlink:href=\"#arrow-65518d090e2045f6b5f43cd37f48baab-0-12\" class=\"displacy-label\" startOffset=\"50%\" side=\"left\" fill=\"currentColor\" text-anchor=\"middle\">nummod</textPath>\n",
       "    </text>\n",
       "    <path class=\"displacy-arrowhead\" d=\"M2310.0,354.0 L2318.0,342.0 2302.0,342.0\" fill=\"currentColor\"/>\n",
       "</g>\n",
       "</svg></span>"
      ],
      "text/plain": [
       "<IPython.core.display.HTML object>"
      ]
     },
     "metadata": {},
     "output_type": "display_data"
    }
   ],
   "source": [
    "displacy.render(doc, style=\"dep\", jupyter=True)"
   ]
  },
  {
   "cell_type": "markdown",
   "id": "09e62e5a-3bd1-4180-8629-6b0c84d5550a",
   "metadata": {
    "tags": []
   },
   "source": [
    "## 1.2 Entity Linking"
   ]
  },
  {
   "cell_type": "code",
   "execution_count": 10,
   "id": "d1f305b4-4480-4685-8f89-2d05b7350d33",
   "metadata": {},
   "outputs": [
    {
     "data": {
      "text/html": [
       "<span class=\"tex2jax_ignore\"><div class=\"entities\" style=\"line-height: 2.5; direction: ltr\">\n",
       "<mark class=\"entity\" style=\"background: #7aecec; padding: 0.45em 0.6em; margin: 0 0.25em; line-height: 1; border-radius: 0.35em;\">\n",
       "    Amazon\n",
       "    <span style=\"font-size: 0.8em; font-weight: bold; line-height: 1; border-radius: 0.35em; vertical-align: middle; margin-left: 0.5rem\">ORG</span>\n",
       "</mark>\n",
       " and \n",
       "<mark class=\"entity\" style=\"background: #7aecec; padding: 0.45em 0.6em; margin: 0 0.25em; line-height: 1; border-radius: 0.35em;\">\n",
       "    Google\n",
       "    <span style=\"font-size: 0.8em; font-weight: bold; line-height: 1; border-radius: 0.35em; vertical-align: middle; margin-left: 0.5rem\">ORG</span>\n",
       "</mark>\n",
       " have each annonced \n",
       "<mark class=\"entity\" style=\"background: #e4e7d2; padding: 0.45em 0.6em; margin: 0 0.25em; line-height: 1; border-radius: 0.35em;\">\n",
       "    20:1\n",
       "    <span style=\"font-size: 0.8em; font-weight: bold; line-height: 1; border-radius: 0.35em; vertical-align: middle; margin-left: 0.5rem\">CARDINAL</span>\n",
       "</mark>\n",
       " stock splits to occur in \n",
       "<mark class=\"entity\" style=\"background: #bfe1d9; padding: 0.45em 0.6em; margin: 0 0.25em; line-height: 1; border-radius: 0.35em;\">\n",
       "    June 2022\n",
       "    <span style=\"font-size: 0.8em; font-weight: bold; line-height: 1; border-radius: 0.35em; vertical-align: middle; margin-left: 0.5rem\">DATE</span>\n",
       "</mark>\n",
       ".</div></span>"
      ],
      "text/plain": [
       "<IPython.core.display.HTML object>"
      ]
     },
     "metadata": {},
     "output_type": "display_data"
    }
   ],
   "source": [
    "nlp = spacy.load(\"en_core_web_sm\")\n",
    "\n",
    "# Process whole documents\n",
    "text = (\"Amazon and Google have each annonced 20:1 stock splits to occur in June 2022.\")\n",
    "doc = nlp(text)\n",
    "\n",
    "displacy.render(doc, style=\"ent\", jupyter=True)"
   ]
  },
  {
   "cell_type": "code",
   "execution_count": 11,
   "id": "efc35275-7fee-4c32-a33a-89be42daf735",
   "metadata": {},
   "outputs": [
    {
     "name": "stdout",
     "output_type": "stream",
     "text": [
      "[Amazon, Google, 20:1, June 2022]\n"
     ]
    }
   ],
   "source": [
    "print([e for e in doc.ents])"
   ]
  },
  {
   "cell_type": "code",
   "execution_count": 12,
   "id": "b971c951-0b49-4b08-b12a-542ba10d5ad5",
   "metadata": {},
   "outputs": [
    {
     "name": "stdout",
     "output_type": "stream",
     "text": [
      "Amazon ORG Companies, agencies, institutions, etc.\n",
      "Google ORG Companies, agencies, institutions, etc.\n",
      "20:1 CARDINAL Numerals that do not fall under another type\n",
      "June 2022 DATE Absolute or relative dates or periods\n"
     ]
    }
   ],
   "source": [
    "for e in doc.ents:\n",
    "    print(e.text, e.label_, spacy.explain(e.label_))"
   ]
  },
  {
   "cell_type": "markdown",
   "id": "6674c738-92e7-4f8b-ac77-df5d593ce5b0",
   "metadata": {},
   "source": [
    "## 1.3. Refining an NER System\n",
    "Let's expand our existing example and look at a collection of texts. In this example, we will see that our NER model is good, but not perfect. Can you identify the issues?"
   ]
  },
  {
   "cell_type": "code",
   "execution_count": 14,
   "id": "1f5bf837-4e21-42b6-8e91-2aeb9de6b4ef",
   "metadata": {},
   "outputs": [
    {
     "data": {
      "text/html": [
       "<span class=\"tex2jax_ignore\"><div class=\"entities\" style=\"line-height: 2.5; direction: ltr\">\n",
       "<mark class=\"entity\" style=\"background: #7aecec; padding: 0.45em 0.6em; margin: 0 0.25em; line-height: 1; border-radius: 0.35em;\">\n",
       "    Amazon\n",
       "    <span style=\"font-size: 0.8em; font-weight: bold; line-height: 1; border-radius: 0.35em; vertical-align: middle; margin-left: 0.5rem\">ORG</span>\n",
       "</mark>\n",
       " and \n",
       "<mark class=\"entity\" style=\"background: #7aecec; padding: 0.45em 0.6em; margin: 0 0.25em; line-height: 1; border-radius: 0.35em;\">\n",
       "    Google\n",
       "    <span style=\"font-size: 0.8em; font-weight: bold; line-height: 1; border-radius: 0.35em; vertical-align: middle; margin-left: 0.5rem\">ORG</span>\n",
       "</mark>\n",
       " have each annonced \n",
       "<mark class=\"entity\" style=\"background: #e4e7d2; padding: 0.45em 0.6em; margin: 0 0.25em; line-height: 1; border-radius: 0.35em;\">\n",
       "    20:1\n",
       "    <span style=\"font-size: 0.8em; font-weight: bold; line-height: 1; border-radius: 0.35em; vertical-align: middle; margin-left: 0.5rem\">CARDINAL</span>\n",
       "</mark>\n",
       " stock splits to occur in \n",
       "<mark class=\"entity\" style=\"background: #bfe1d9; padding: 0.45em 0.6em; margin: 0 0.25em; line-height: 1; border-radius: 0.35em;\">\n",
       "    June 2022\n",
       "    <span style=\"font-size: 0.8em; font-weight: bold; line-height: 1; border-radius: 0.35em; vertical-align: middle; margin-left: 0.5rem\">DATE</span>\n",
       "</mark>\n",
       ".</div></span>"
      ],
      "text/plain": [
       "<IPython.core.display.HTML object>"
      ]
     },
     "metadata": {},
     "output_type": "display_data"
    },
    {
     "data": {
      "text/html": [
       "<span class=\"tex2jax_ignore\"><div class=\"entities\" style=\"line-height: 2.5; direction: ltr\">\n",
       "<mark class=\"entity\" style=\"background: #7aecec; padding: 0.45em 0.6em; margin: 0 0.25em; line-height: 1; border-radius: 0.35em;\">\n",
       "    Ford\n",
       "    <span style=\"font-size: 0.8em; font-weight: bold; line-height: 1; border-radius: 0.35em; vertical-align: middle; margin-left: 0.5rem\">ORG</span>\n",
       "</mark>\n",
       " is pushing back deliveries to late May due to continuing chip shortage.</div></span>"
      ],
      "text/plain": [
       "<IPython.core.display.HTML object>"
      ]
     },
     "metadata": {},
     "output_type": "display_data"
    },
    {
     "data": {
      "text/html": [
       "<span class=\"tex2jax_ignore\"><div class=\"entities\" style=\"line-height: 2.5; direction: ltr\">\n",
       "<mark class=\"entity\" style=\"background: #7aecec; padding: 0.45em 0.6em; margin: 0 0.25em; line-height: 1; border-radius: 0.35em;\">\n",
       "    Deutsche Bank\n",
       "    <span style=\"font-size: 0.8em; font-weight: bold; line-height: 1; border-radius: 0.35em; vertical-align: middle; margin-left: 0.5rem\">ORG</span>\n",
       "</mark>\n",
       " reverses course on \n",
       "<mark class=\"entity\" style=\"background: #feca74; padding: 0.45em 0.6em; margin: 0 0.25em; line-height: 1; border-radius: 0.35em;\">\n",
       "    Russia\n",
       "    <span style=\"font-size: 0.8em; font-weight: bold; line-height: 1; border-radius: 0.35em; vertical-align: middle; margin-left: 0.5rem\">GPE</span>\n",
       "</mark>\n",
       ", says it is unwinding business there after \n",
       "<mark class=\"entity\" style=\"background: #feca74; padding: 0.45em 0.6em; margin: 0 0.25em; line-height: 1; border-radius: 0.35em;\">\n",
       "    Ukraine\n",
       "    <span style=\"font-size: 0.8em; font-weight: bold; line-height: 1; border-radius: 0.35em; vertical-align: middle; margin-left: 0.5rem\">GPE</span>\n",
       "</mark>\n",
       " invasion</div></span>"
      ],
      "text/plain": [
       "<IPython.core.display.HTML object>"
      ]
     },
     "metadata": {},
     "output_type": "display_data"
    },
    {
     "data": {
      "text/html": [
       "<span class=\"tex2jax_ignore\"><div class=\"entities\" style=\"line-height: 2.5; direction: ltr\">\n",
       "<mark class=\"entity\" style=\"background: #7aecec; padding: 0.45em 0.6em; margin: 0 0.25em; line-height: 1; border-radius: 0.35em;\">\n",
       "    Costco\n",
       "    <span style=\"font-size: 0.8em; font-weight: bold; line-height: 1; border-radius: 0.35em; vertical-align: middle; margin-left: 0.5rem\">ORG</span>\n",
       "</mark>\n",
       " memberships may cost more \n",
       "<mark class=\"entity\" style=\"background: #bfe1d9; padding: 0.45em 0.6em; margin: 0 0.25em; line-height: 1; border-radius: 0.35em;\">\n",
       "    this summer\n",
       "    <span style=\"font-size: 0.8em; font-weight: bold; line-height: 1; border-radius: 0.35em; vertical-align: middle; margin-left: 0.5rem\">DATE</span>\n",
       "</mark>\n",
       "</div></span>"
      ],
      "text/plain": [
       "<IPython.core.display.HTML object>"
      ]
     },
     "metadata": {},
     "output_type": "display_data"
    },
    {
     "data": {
      "text/html": [
       "<span class=\"tex2jax_ignore\"><div class=\"entities\" style=\"line-height: 2.5; direction: ltr\">\n",
       "<mark class=\"entity\" style=\"background: #7aecec; padding: 0.45em 0.6em; margin: 0 0.25em; line-height: 1; border-radius: 0.35em;\">\n",
       "    Apple\n",
       "    <span style=\"font-size: 0.8em; font-weight: bold; line-height: 1; border-radius: 0.35em; vertical-align: middle; margin-left: 0.5rem\">ORG</span>\n",
       "</mark>\n",
       "'s new \n",
       "<mark class=\"entity\" style=\"background: #7aecec; padding: 0.45em 0.6em; margin: 0 0.25em; line-height: 1; border-radius: 0.35em;\">\n",
       "    MacBook Air\n",
       "    <span style=\"font-size: 0.8em; font-weight: bold; line-height: 1; border-radius: 0.35em; vertical-align: middle; margin-left: 0.5rem\">ORG</span>\n",
       "</mark>\n",
       " and \n",
       "<mark class=\"entity\" style=\"background: #e4e7d2; padding: 0.45em 0.6em; margin: 0 0.25em; line-height: 1; border-radius: 0.35em;\">\n",
       "    13-inch\n",
       "    <span style=\"font-size: 0.8em; font-weight: bold; line-height: 1; border-radius: 0.35em; vertical-align: middle; margin-left: 0.5rem\">QUANTITY</span>\n",
       "</mark>\n",
       " \n",
       "<mark class=\"entity\" style=\"background: #aa9cfc; padding: 0.45em 0.6em; margin: 0 0.25em; line-height: 1; border-radius: 0.35em;\">\n",
       "    MacBook Pro\n",
       "    <span style=\"font-size: 0.8em; font-weight: bold; line-height: 1; border-radius: 0.35em; vertical-align: middle; margin-left: 0.5rem\">PERSON</span>\n",
       "</mark>\n",
       " with \n",
       "<mark class=\"entity\" style=\"background: #aa9cfc; padding: 0.45em 0.6em; margin: 0 0.25em; line-height: 1; border-radius: 0.35em;\">\n",
       "    M2\n",
       "    <span style=\"font-size: 0.8em; font-weight: bold; line-height: 1; border-radius: 0.35em; vertical-align: middle; margin-left: 0.5rem\">PERSON</span>\n",
       "</mark>\n",
       " processor coming \n",
       "<mark class=\"entity\" style=\"background: #bfe1d9; padding: 0.45em 0.6em; margin: 0 0.25em; line-height: 1; border-radius: 0.35em;\">\n",
       "    later this summer\n",
       "    <span style=\"font-size: 0.8em; font-weight: bold; line-height: 1; border-radius: 0.35em; vertical-align: middle; margin-left: 0.5rem\">DATE</span>\n",
       "</mark>\n",
       ".</div></span>"
      ],
      "text/plain": [
       "<IPython.core.display.HTML object>"
      ]
     },
     "metadata": {},
     "output_type": "display_data"
    },
    {
     "data": {
      "text/html": [
       "<span class=\"tex2jax_ignore\"><div class=\"entities\" style=\"line-height: 2.5; direction: ltr\">Tesla and \n",
       "<mark class=\"entity\" style=\"background: #7aecec; padding: 0.45em 0.6em; margin: 0 0.25em; line-height: 1; border-radius: 0.35em;\">\n",
       "    Ford\n",
       "    <span style=\"font-size: 0.8em; font-weight: bold; line-height: 1; border-radius: 0.35em; vertical-align: middle; margin-left: 0.5rem\">ORG</span>\n",
       "</mark>\n",
       " are delaying production due to supply-chain shortages.</div></span>"
      ],
      "text/plain": [
       "<IPython.core.display.HTML object>"
      ]
     },
     "metadata": {},
     "output_type": "display_data"
    }
   ],
   "source": [
    "nlp = spacy.load(\"en_core_web_sm\")\n",
    "\n",
    "HEADLINES = (\n",
    "    \"Amazon and Google have each annonced 20:1 stock splits to occur in June 2022.\",\n",
    "    \"Ford is pushing back deliveries to late May due to continuing chip shortage.\",\n",
    "    \"Deutsche Bank reverses course on Russia, says it is unwinding business there after Ukraine invasion\",\n",
    "    \"Costco memberships may cost more this summer\",\n",
    "    \"Apple's new MacBook Air and 13-inch MacBook Pro with M2 processor coming later this summer.\",\n",
    "    \"Tesla and Ford are delaying production due to supply-chain shortages.\"\n",
    ")\n",
    "\n",
    "for doc in nlp.pipe(HEADLINES):\n",
    "  displacy.render(doc, style=\"ent\", jupyter=True)"
   ]
  },
  {
   "cell_type": "markdown",
   "id": "1cdf7893-c478-45cc-bd11-a120413dc01d",
   "metadata": {},
   "source": [
    "Now that we have observed the potential issues with our existing NER model, let's see if we can refine our code by introducing a few new training samples. We will use the following code recipe to update our NER model components. While we will not cover every facet of the code below, the big thing to notice is the format of the new training data. SpaCy requires a LIST of 2-element TUPLES, where the first element is the text and the second element is a dictionary. The dictionary is a key-value pair, where the KEY is 'entities' and the value is a list of tuples with the following format:\n",
    "- item 1: start position of a new entity\n",
    "- item 2: end position of a new entity\n",
    "- item 3: user-defined types of the new entity\n",
    "\n",
    "If the entity has not already been specified in the model configuration given by ``` XXX ```, then the entity can be added with the following:\n",
    "```\n",
    "ner = nlp.get_pipe(\"ner\")\n",
    "ner.add_label(\"<new-entity-name>\")\n",
    "```"
   ]
  },
  {
   "cell_type": "code",
   "execution_count": 15,
   "id": "ae53bff4-3c0a-4b53-8660-d298f5c167c0",
   "metadata": {},
   "outputs": [],
   "source": [
    "import random\n",
    "from spacy.util import minibatch, compounding\n",
    "from spacy.training import Example\n",
    "\n",
    "nlp = spacy.load(\"en_core_web_sm\")\n",
    "\n",
    "TRAINING_SAMPLES =[ (\"Two US senators have raised concerns about Tesla's driving systems\", {\"entities\": [(43, 48, \"ORG\")]}),\n",
    "                    (\"Elon Musk in the CEO of Tesla and SpaceX\", {\"entities\": [(24, 29, \"ORG\"), (34, 40, \"ORG\")]}),\n",
    "                    (\"Rumors are circulating about the potential MacBook Pro 2022\", {\"entities\": [(43,54, \"PRODUCT\")]}),\n",
    "                  ]\n",
    "\n",
    "ignore_pipes = [pipe for pipe in nlp.pipe_names if pipe!=\"ner\"]\n",
    "with nlp.disable_pipes(*ignore_pipes):\n",
    "  for itr in range(5):\n",
    "    random.shuffle(TRAINING_SAMPLES)\n",
    "    batches = minibatch(TRAINING_SAMPLES, size=compounding(4.0, 32.0, 1.001))\n",
    "    for batch in batches:\n",
    "      texts, annotations = zip(*batch)\n",
    "\n",
    "      example = []\n",
    "      for i in range(len(texts)):\n",
    "        doc = nlp.make_doc(texts[i])\n",
    "        example.append(Example.from_dict(doc, annotations[i]))\n",
    "      \n",
    "      nlp.update(example, drop=0.2)"
   ]
  },
  {
   "cell_type": "code",
   "execution_count": 16,
   "id": "ef5df91a-74fc-4056-bbc1-a4a1491d7e4e",
   "metadata": {},
   "outputs": [
    {
     "data": {
      "text/html": [
       "<span class=\"tex2jax_ignore\"><div class=\"entities\" style=\"line-height: 2.5; direction: ltr\">\n",
       "<mark class=\"entity\" style=\"background: #7aecec; padding: 0.45em 0.6em; margin: 0 0.25em; line-height: 1; border-radius: 0.35em;\">\n",
       "    Amazon\n",
       "    <span style=\"font-size: 0.8em; font-weight: bold; line-height: 1; border-radius: 0.35em; vertical-align: middle; margin-left: 0.5rem\">ORG</span>\n",
       "</mark>\n",
       " and \n",
       "<mark class=\"entity\" style=\"background: #7aecec; padding: 0.45em 0.6em; margin: 0 0.25em; line-height: 1; border-radius: 0.35em;\">\n",
       "    Google\n",
       "    <span style=\"font-size: 0.8em; font-weight: bold; line-height: 1; border-radius: 0.35em; vertical-align: middle; margin-left: 0.5rem\">ORG</span>\n",
       "</mark>\n",
       " have each annonced \n",
       "<mark class=\"entity\" style=\"background: #e4e7d2; padding: 0.45em 0.6em; margin: 0 0.25em; line-height: 1; border-radius: 0.35em;\">\n",
       "    20:1\n",
       "    <span style=\"font-size: 0.8em; font-weight: bold; line-height: 1; border-radius: 0.35em; vertical-align: middle; margin-left: 0.5rem\">CARDINAL</span>\n",
       "</mark>\n",
       " stock splits to occur in \n",
       "<mark class=\"entity\" style=\"background: #bfe1d9; padding: 0.45em 0.6em; margin: 0 0.25em; line-height: 1; border-radius: 0.35em;\">\n",
       "    June 2022\n",
       "    <span style=\"font-size: 0.8em; font-weight: bold; line-height: 1; border-radius: 0.35em; vertical-align: middle; margin-left: 0.5rem\">DATE</span>\n",
       "</mark>\n",
       ".</div></span>"
      ],
      "text/plain": [
       "<IPython.core.display.HTML object>"
      ]
     },
     "metadata": {},
     "output_type": "display_data"
    },
    {
     "data": {
      "text/html": [
       "<span class=\"tex2jax_ignore\"><div class=\"entities\" style=\"line-height: 2.5; direction: ltr\">\n",
       "<mark class=\"entity\" style=\"background: #7aecec; padding: 0.45em 0.6em; margin: 0 0.25em; line-height: 1; border-radius: 0.35em;\">\n",
       "    Ford\n",
       "    <span style=\"font-size: 0.8em; font-weight: bold; line-height: 1; border-radius: 0.35em; vertical-align: middle; margin-left: 0.5rem\">ORG</span>\n",
       "</mark>\n",
       " is pushing back deliveries to late May due to continuing chip shortage.</div></span>"
      ],
      "text/plain": [
       "<IPython.core.display.HTML object>"
      ]
     },
     "metadata": {},
     "output_type": "display_data"
    },
    {
     "data": {
      "text/html": [
       "<span class=\"tex2jax_ignore\"><div class=\"entities\" style=\"line-height: 2.5; direction: ltr\">\n",
       "<mark class=\"entity\" style=\"background: #7aecec; padding: 0.45em 0.6em; margin: 0 0.25em; line-height: 1; border-radius: 0.35em;\">\n",
       "    Deutsche Bank\n",
       "    <span style=\"font-size: 0.8em; font-weight: bold; line-height: 1; border-radius: 0.35em; vertical-align: middle; margin-left: 0.5rem\">ORG</span>\n",
       "</mark>\n",
       " reverses course on \n",
       "<mark class=\"entity\" style=\"background: #feca74; padding: 0.45em 0.6em; margin: 0 0.25em; line-height: 1; border-radius: 0.35em;\">\n",
       "    Russia\n",
       "    <span style=\"font-size: 0.8em; font-weight: bold; line-height: 1; border-radius: 0.35em; vertical-align: middle; margin-left: 0.5rem\">GPE</span>\n",
       "</mark>\n",
       ", says it is unwinding business there after \n",
       "<mark class=\"entity\" style=\"background: #feca74; padding: 0.45em 0.6em; margin: 0 0.25em; line-height: 1; border-radius: 0.35em;\">\n",
       "    Ukraine\n",
       "    <span style=\"font-size: 0.8em; font-weight: bold; line-height: 1; border-radius: 0.35em; vertical-align: middle; margin-left: 0.5rem\">GPE</span>\n",
       "</mark>\n",
       " invasion</div></span>"
      ],
      "text/plain": [
       "<IPython.core.display.HTML object>"
      ]
     },
     "metadata": {},
     "output_type": "display_data"
    },
    {
     "data": {
      "text/html": [
       "<span class=\"tex2jax_ignore\"><div class=\"entities\" style=\"line-height: 2.5; direction: ltr\">\n",
       "<mark class=\"entity\" style=\"background: #7aecec; padding: 0.45em 0.6em; margin: 0 0.25em; line-height: 1; border-radius: 0.35em;\">\n",
       "    Costco\n",
       "    <span style=\"font-size: 0.8em; font-weight: bold; line-height: 1; border-radius: 0.35em; vertical-align: middle; margin-left: 0.5rem\">ORG</span>\n",
       "</mark>\n",
       " memberships may cost more \n",
       "<mark class=\"entity\" style=\"background: #bfe1d9; padding: 0.45em 0.6em; margin: 0 0.25em; line-height: 1; border-radius: 0.35em;\">\n",
       "    this summer\n",
       "    <span style=\"font-size: 0.8em; font-weight: bold; line-height: 1; border-radius: 0.35em; vertical-align: middle; margin-left: 0.5rem\">DATE</span>\n",
       "</mark>\n",
       "</div></span>"
      ],
      "text/plain": [
       "<IPython.core.display.HTML object>"
      ]
     },
     "metadata": {},
     "output_type": "display_data"
    },
    {
     "data": {
      "text/html": [
       "<span class=\"tex2jax_ignore\"><div class=\"entities\" style=\"line-height: 2.5; direction: ltr\">\n",
       "<mark class=\"entity\" style=\"background: #7aecec; padding: 0.45em 0.6em; margin: 0 0.25em; line-height: 1; border-radius: 0.35em;\">\n",
       "    Apple\n",
       "    <span style=\"font-size: 0.8em; font-weight: bold; line-height: 1; border-radius: 0.35em; vertical-align: middle; margin-left: 0.5rem\">ORG</span>\n",
       "</mark>\n",
       "'s new \n",
       "<mark class=\"entity\" style=\"background: #bfeeb7; padding: 0.45em 0.6em; margin: 0 0.25em; line-height: 1; border-radius: 0.35em;\">\n",
       "    MacBook Air\n",
       "    <span style=\"font-size: 0.8em; font-weight: bold; line-height: 1; border-radius: 0.35em; vertical-align: middle; margin-left: 0.5rem\">PRODUCT</span>\n",
       "</mark>\n",
       " and \n",
       "<mark class=\"entity\" style=\"background: #e4e7d2; padding: 0.45em 0.6em; margin: 0 0.25em; line-height: 1; border-radius: 0.35em;\">\n",
       "    13-inch\n",
       "    <span style=\"font-size: 0.8em; font-weight: bold; line-height: 1; border-radius: 0.35em; vertical-align: middle; margin-left: 0.5rem\">QUANTITY</span>\n",
       "</mark>\n",
       " \n",
       "<mark class=\"entity\" style=\"background: #bfeeb7; padding: 0.45em 0.6em; margin: 0 0.25em; line-height: 1; border-radius: 0.35em;\">\n",
       "    MacBook Pro\n",
       "    <span style=\"font-size: 0.8em; font-weight: bold; line-height: 1; border-radius: 0.35em; vertical-align: middle; margin-left: 0.5rem\">PRODUCT</span>\n",
       "</mark>\n",
       " with M2 processor coming \n",
       "<mark class=\"entity\" style=\"background: #bfe1d9; padding: 0.45em 0.6em; margin: 0 0.25em; line-height: 1; border-radius: 0.35em;\">\n",
       "    later this summer\n",
       "    <span style=\"font-size: 0.8em; font-weight: bold; line-height: 1; border-radius: 0.35em; vertical-align: middle; margin-left: 0.5rem\">DATE</span>\n",
       "</mark>\n",
       ".</div></span>"
      ],
      "text/plain": [
       "<IPython.core.display.HTML object>"
      ]
     },
     "metadata": {},
     "output_type": "display_data"
    },
    {
     "data": {
      "text/html": [
       "<span class=\"tex2jax_ignore\"><div class=\"entities\" style=\"line-height: 2.5; direction: ltr\">\n",
       "<mark class=\"entity\" style=\"background: #7aecec; padding: 0.45em 0.6em; margin: 0 0.25em; line-height: 1; border-radius: 0.35em;\">\n",
       "    Tesla\n",
       "    <span style=\"font-size: 0.8em; font-weight: bold; line-height: 1; border-radius: 0.35em; vertical-align: middle; margin-left: 0.5rem\">ORG</span>\n",
       "</mark>\n",
       " and \n",
       "<mark class=\"entity\" style=\"background: #7aecec; padding: 0.45em 0.6em; margin: 0 0.25em; line-height: 1; border-radius: 0.35em;\">\n",
       "    Ford\n",
       "    <span style=\"font-size: 0.8em; font-weight: bold; line-height: 1; border-radius: 0.35em; vertical-align: middle; margin-left: 0.5rem\">ORG</span>\n",
       "</mark>\n",
       " are delaying production due to supply-chain shortages.</div></span>"
      ],
      "text/plain": [
       "<IPython.core.display.HTML object>"
      ]
     },
     "metadata": {},
     "output_type": "display_data"
    }
   ],
   "source": [
    "for doc in nlp.pipe(HEADLINES):\n",
    "  displacy.render(doc, style=\"ent\", jupyter=True)"
   ]
  },
  {
   "cell_type": "markdown",
   "id": "f9e5db29-4e01-4790-aaf9-3ff18c3ca275",
   "metadata": {},
   "source": [
    "The prior example involves training our model on specific cases of interest, but let's have a look at one of spaCy's models (```en_core_web_md```) which has been trained on a larger corpus of text"
   ]
  },
  {
   "cell_type": "code",
   "execution_count": 17,
   "id": "6e7dd656-a66b-4739-a441-ccb9a4ba4768",
   "metadata": {},
   "outputs": [
    {
     "data": {
      "text/html": [
       "<span class=\"tex2jax_ignore\"><div class=\"entities\" style=\"line-height: 2.5; direction: ltr\">\n",
       "<mark class=\"entity\" style=\"background: #7aecec; padding: 0.45em 0.6em; margin: 0 0.25em; line-height: 1; border-radius: 0.35em;\">\n",
       "    Amazon\n",
       "    <span style=\"font-size: 0.8em; font-weight: bold; line-height: 1; border-radius: 0.35em; vertical-align: middle; margin-left: 0.5rem\">ORG</span>\n",
       "</mark>\n",
       " and \n",
       "<mark class=\"entity\" style=\"background: #7aecec; padding: 0.45em 0.6em; margin: 0 0.25em; line-height: 1; border-radius: 0.35em;\">\n",
       "    Google\n",
       "    <span style=\"font-size: 0.8em; font-weight: bold; line-height: 1; border-radius: 0.35em; vertical-align: middle; margin-left: 0.5rem\">ORG</span>\n",
       "</mark>\n",
       " have each annonced \n",
       "<mark class=\"entity\" style=\"background: #e4e7d2; padding: 0.45em 0.6em; margin: 0 0.25em; line-height: 1; border-radius: 0.35em;\">\n",
       "    20:1\n",
       "    <span style=\"font-size: 0.8em; font-weight: bold; line-height: 1; border-radius: 0.35em; vertical-align: middle; margin-left: 0.5rem\">CARDINAL</span>\n",
       "</mark>\n",
       " stock splits to occur in \n",
       "<mark class=\"entity\" style=\"background: #bfe1d9; padding: 0.45em 0.6em; margin: 0 0.25em; line-height: 1; border-radius: 0.35em;\">\n",
       "    June 2022\n",
       "    <span style=\"font-size: 0.8em; font-weight: bold; line-height: 1; border-radius: 0.35em; vertical-align: middle; margin-left: 0.5rem\">DATE</span>\n",
       "</mark>\n",
       ".</div></span>"
      ],
      "text/plain": [
       "<IPython.core.display.HTML object>"
      ]
     },
     "metadata": {},
     "output_type": "display_data"
    },
    {
     "data": {
      "text/html": [
       "<span class=\"tex2jax_ignore\"><div class=\"entities\" style=\"line-height: 2.5; direction: ltr\">\n",
       "<mark class=\"entity\" style=\"background: #7aecec; padding: 0.45em 0.6em; margin: 0 0.25em; line-height: 1; border-radius: 0.35em;\">\n",
       "    Ford\n",
       "    <span style=\"font-size: 0.8em; font-weight: bold; line-height: 1; border-radius: 0.35em; vertical-align: middle; margin-left: 0.5rem\">ORG</span>\n",
       "</mark>\n",
       " is pushing back deliveries to \n",
       "<mark class=\"entity\" style=\"background: #bfe1d9; padding: 0.45em 0.6em; margin: 0 0.25em; line-height: 1; border-radius: 0.35em;\">\n",
       "    late May\n",
       "    <span style=\"font-size: 0.8em; font-weight: bold; line-height: 1; border-radius: 0.35em; vertical-align: middle; margin-left: 0.5rem\">DATE</span>\n",
       "</mark>\n",
       " due to continuing chip shortage.</div></span>"
      ],
      "text/plain": [
       "<IPython.core.display.HTML object>"
      ]
     },
     "metadata": {},
     "output_type": "display_data"
    },
    {
     "data": {
      "text/html": [
       "<span class=\"tex2jax_ignore\"><div class=\"entities\" style=\"line-height: 2.5; direction: ltr\">\n",
       "<mark class=\"entity\" style=\"background: #7aecec; padding: 0.45em 0.6em; margin: 0 0.25em; line-height: 1; border-radius: 0.35em;\">\n",
       "    Deutsche Bank\n",
       "    <span style=\"font-size: 0.8em; font-weight: bold; line-height: 1; border-radius: 0.35em; vertical-align: middle; margin-left: 0.5rem\">ORG</span>\n",
       "</mark>\n",
       " reverses course on \n",
       "<mark class=\"entity\" style=\"background: #feca74; padding: 0.45em 0.6em; margin: 0 0.25em; line-height: 1; border-radius: 0.35em;\">\n",
       "    Russia\n",
       "    <span style=\"font-size: 0.8em; font-weight: bold; line-height: 1; border-radius: 0.35em; vertical-align: middle; margin-left: 0.5rem\">GPE</span>\n",
       "</mark>\n",
       ", says it is unwinding business there after \n",
       "<mark class=\"entity\" style=\"background: #feca74; padding: 0.45em 0.6em; margin: 0 0.25em; line-height: 1; border-radius: 0.35em;\">\n",
       "    Ukraine\n",
       "    <span style=\"font-size: 0.8em; font-weight: bold; line-height: 1; border-radius: 0.35em; vertical-align: middle; margin-left: 0.5rem\">GPE</span>\n",
       "</mark>\n",
       " invasion</div></span>"
      ],
      "text/plain": [
       "<IPython.core.display.HTML object>"
      ]
     },
     "metadata": {},
     "output_type": "display_data"
    },
    {
     "data": {
      "text/html": [
       "<span class=\"tex2jax_ignore\"><div class=\"entities\" style=\"line-height: 2.5; direction: ltr\">\n",
       "<mark class=\"entity\" style=\"background: #7aecec; padding: 0.45em 0.6em; margin: 0 0.25em; line-height: 1; border-radius: 0.35em;\">\n",
       "    Costco\n",
       "    <span style=\"font-size: 0.8em; font-weight: bold; line-height: 1; border-radius: 0.35em; vertical-align: middle; margin-left: 0.5rem\">ORG</span>\n",
       "</mark>\n",
       " memberships may cost more \n",
       "<mark class=\"entity\" style=\"background: #bfe1d9; padding: 0.45em 0.6em; margin: 0 0.25em; line-height: 1; border-radius: 0.35em;\">\n",
       "    this summer\n",
       "    <span style=\"font-size: 0.8em; font-weight: bold; line-height: 1; border-radius: 0.35em; vertical-align: middle; margin-left: 0.5rem\">DATE</span>\n",
       "</mark>\n",
       "</div></span>"
      ],
      "text/plain": [
       "<IPython.core.display.HTML object>"
      ]
     },
     "metadata": {},
     "output_type": "display_data"
    },
    {
     "data": {
      "text/html": [
       "<span class=\"tex2jax_ignore\"><div class=\"entities\" style=\"line-height: 2.5; direction: ltr\">\n",
       "<mark class=\"entity\" style=\"background: #7aecec; padding: 0.45em 0.6em; margin: 0 0.25em; line-height: 1; border-radius: 0.35em;\">\n",
       "    Apple\n",
       "    <span style=\"font-size: 0.8em; font-weight: bold; line-height: 1; border-radius: 0.35em; vertical-align: middle; margin-left: 0.5rem\">ORG</span>\n",
       "</mark>\n",
       "'s new \n",
       "<mark class=\"entity\" style=\"background: #bfeeb7; padding: 0.45em 0.6em; margin: 0 0.25em; line-height: 1; border-radius: 0.35em;\">\n",
       "    MacBook Air\n",
       "    <span style=\"font-size: 0.8em; font-weight: bold; line-height: 1; border-radius: 0.35em; vertical-align: middle; margin-left: 0.5rem\">PRODUCT</span>\n",
       "</mark>\n",
       " and \n",
       "<mark class=\"entity\" style=\"background: #e4e7d2; padding: 0.45em 0.6em; margin: 0 0.25em; line-height: 1; border-radius: 0.35em;\">\n",
       "    13-inch\n",
       "    <span style=\"font-size: 0.8em; font-weight: bold; line-height: 1; border-radius: 0.35em; vertical-align: middle; margin-left: 0.5rem\">QUANTITY</span>\n",
       "</mark>\n",
       " \n",
       "<mark class=\"entity\" style=\"background: #bfeeb7; padding: 0.45em 0.6em; margin: 0 0.25em; line-height: 1; border-radius: 0.35em;\">\n",
       "    MacBook Pro\n",
       "    <span style=\"font-size: 0.8em; font-weight: bold; line-height: 1; border-radius: 0.35em; vertical-align: middle; margin-left: 0.5rem\">PRODUCT</span>\n",
       "</mark>\n",
       " with M2 processor coming \n",
       "<mark class=\"entity\" style=\"background: #bfe1d9; padding: 0.45em 0.6em; margin: 0 0.25em; line-height: 1; border-radius: 0.35em;\">\n",
       "    later this summer\n",
       "    <span style=\"font-size: 0.8em; font-weight: bold; line-height: 1; border-radius: 0.35em; vertical-align: middle; margin-left: 0.5rem\">DATE</span>\n",
       "</mark>\n",
       ".</div></span>"
      ],
      "text/plain": [
       "<IPython.core.display.HTML object>"
      ]
     },
     "metadata": {},
     "output_type": "display_data"
    },
    {
     "data": {
      "text/html": [
       "<span class=\"tex2jax_ignore\"><div class=\"entities\" style=\"line-height: 2.5; direction: ltr\">\n",
       "<mark class=\"entity\" style=\"background: #7aecec; padding: 0.45em 0.6em; margin: 0 0.25em; line-height: 1; border-radius: 0.35em;\">\n",
       "    Tesla\n",
       "    <span style=\"font-size: 0.8em; font-weight: bold; line-height: 1; border-radius: 0.35em; vertical-align: middle; margin-left: 0.5rem\">ORG</span>\n",
       "</mark>\n",
       " and \n",
       "<mark class=\"entity\" style=\"background: #7aecec; padding: 0.45em 0.6em; margin: 0 0.25em; line-height: 1; border-radius: 0.35em;\">\n",
       "    Ford\n",
       "    <span style=\"font-size: 0.8em; font-weight: bold; line-height: 1; border-radius: 0.35em; vertical-align: middle; margin-left: 0.5rem\">ORG</span>\n",
       "</mark>\n",
       " are delaying production due to supply-chain shortages.</div></span>"
      ],
      "text/plain": [
       "<IPython.core.display.HTML object>"
      ]
     },
     "metadata": {},
     "output_type": "display_data"
    }
   ],
   "source": [
    "nlp = spacy.load(\"en_core_web_md\")\n",
    "\n",
    "for doc in nlp.pipe(HEADLINES):\n",
    "  displacy.render(doc, style=\"ent\", jupyter=True)"
   ]
  },
  {
   "cell_type": "markdown",
   "id": "f33e8c95-665f-45ba-9bcb-e8761588bf52",
   "metadata": {},
   "source": [
    "## 1.4 Automated Document Retrieval\n",
    "One of the great advantages of domain-specific NER models is the ability to quickly identify relevant texts from a large corpus of text. Imagine reading 1000's of news headlines to identify all that relate to Ford as a company. Can we identify only these documents from our ```HEADLINES```?"
   ]
  },
  {
   "cell_type": "code",
   "execution_count": 18,
   "id": "98d2e617-ab7b-4438-b5ed-f2fff312759a",
   "metadata": {},
   "outputs": [
    {
     "name": "stdout",
     "output_type": "stream",
     "text": [
      "['Ford is pushing back deliveries to late May due to continuing chip shortage.', 'Tesla and Ford are delaying production due to supply-chain shortages.']\n"
     ]
    }
   ],
   "source": [
    "ford_docs = []\n",
    "for doc in nlp.pipe(HEADLINES):\n",
    "  for e in doc.ents:\n",
    "    if e.text=='Ford' and e.label_=='ORG':\n",
    "      ford_docs.append(doc.text)\n",
    "      continue\n",
    "\n",
    "print(ford_docs)"
   ]
  },
  {
   "cell_type": "markdown",
   "id": "22b30e26-55fc-47a5-80ff-490b2561f63b",
   "metadata": {},
   "source": [
    "# **2. Sentiment Analysis**\n",
    "In this next example, we will be looking at text classification, specifically, sentiment analysis. In its simplest form, sentiment analysis generally refers to binary classification reflecting either positive or negative attitudes within a text. You might think of this as akin to the binary classification tasks from earlier MQM ML sessions on logistic regression with MLP. The difference here is that the input is text rather than numbers, at least initially. Other forms of sentiment analysis may include\n",
    "- more granular sentiment (e.g., on a 5-point likert scale)\n",
    "- intent analysis\n",
    "- emotion detection\n",
    "\n",
    "For this example, we will be using the [IMDB movie review dataset](https://ai.stanford.edu/~amaas/data/sentiment/) . This dataset consist of 50,000 movie reviews - 25K for training and 25K for test - which have been assigned either a positive or negative sentiment. For now, we will be using only 10K samples to train our model to limit runtime, but please note that as the model is exposed to more training samples, performance will often improve.\n",
    "\n",
    "We will also be using spaCy's [pre-specified model architectures](https://spacy.io/api/textcategorizer), command line interface ([CLI](https://spacy.io/api/cli)), and dataset specification for text classification.\n",
    "\n",
    "Let's first get started by downloading the IMBD datasets."
   ]
  },
  {
   "cell_type": "markdown",
   "id": "19ddf042-a1b2-4585-a838-af3c2c7e22e6",
   "metadata": {},
   "source": [
    "## 2.1 Downloading the IMDB Dataset\n",
    "\n",
    "if you wanted to download the IMDB dataset and uncompress it youi could use these two commands:\n",
    "\n",
    "          !wget https://ai.stanford.edu/~amaas/data/sentiment/aclImdb_v1.tar.gz\n",
    "          !tar -xvf \"aclImdb_v1.tar.gz\"\n",
    "\n",
    "but to save you the trouble, there is an uncompressed copy in the directory\n",
    "\n",
    "          /datasets/aclImdb/\n",
    "          "
   ]
  },
  {
   "cell_type": "code",
   "execution_count": 19,
   "id": "68e8a0ae-8b8a-4bc3-a55f-a2e18beeeb22",
   "metadata": {},
   "outputs": [],
   "source": [
    "import os, random, spacy\n",
    "\n",
    "def load_imdb(path):\n",
    "\n",
    "  out = []\n",
    "  for fn in os.listdir(path):\n",
    "    with open(f'{path}/{fn}', errors='ignore') as f:\n",
    "      text = f.read().replace(\"<br />\", \"\\n\\n\").strip()\n",
    "      out.append((text, path[-3:]))\n",
    "\n",
    "  return out\n",
    "\n",
    "train = load_imdb('/datasets/aclImdb/train/pos') + load_imdb('/datasets/aclImdb/train/neg')\n",
    "test  = load_imdb('/datasets/aclImdb/test/pos') + load_imdb('/datasets/aclImdb/test/neg')\n",
    "\n",
    "random.seed(123)\n",
    "random.shuffle(train)\n",
    "random.shuffle(test)"
   ]
  },
  {
   "cell_type": "code",
   "execution_count": 21,
   "id": "e8e3b19b-0066-4f09-a598-2595187bc0f6",
   "metadata": {},
   "outputs": [
    {
     "data": {
      "text/plain": [
       "('Despite much style, flash, and glitter, this French musical fails to speak. The tunes are repetitive, predictable, and tedious. The story is uninteresting, as are the many characters. \\n\\n\\n\\nPeople break into song and dance, without motivation or reason. Most of the cast wears phony looking wigs and hairpieces, and the sets look hopelessly studio bound.\\n\\n\\n\\nTo be honest, this video of the restored version was stopped before the end, so negative an effect it had on me. Certainly a shame, to have such a multi-talented cast in so feeble a final effort. \\n\\n\\n\\nGoes to show, I guess, where followups (in this case, to the great classic, \"Umbrellas\") often do go awry. One cannot recapture, only recreate.',\n",
       " 'neg')"
      ]
     },
     "execution_count": 21,
     "metadata": {},
     "output_type": "execute_result"
    }
   ],
   "source": [
    "train[0]"
   ]
  },
  {
   "cell_type": "markdown",
   "id": "85dfd7d8-10bb-4f67-8401-5c2251a64f3f",
   "metadata": {},
   "source": [
    "## 2.2 Specifying the spaCy Data Format\n",
    "As we saw in our earlier NER example, spaCy requires a specific document structure to comply with its pre-built model architectures. For this example, we will be using the spaCy [DocBin](https://spacy.io/api/docbin) class to assign the text and a boolean (i.e., TRUE or FALSE) indicator for each of the labels that we wish to train. Note that labels may be either mutually-exclusive or not. In this example, we will be using the labels 'positive' and 'negative', which are mutually exclusive."
   ]
  },
  {
   "cell_type": "code",
   "execution_count": null,
   "id": "01656b13-ead9-4076-bce9-5d183dc42c9a",
   "metadata": {},
   "outputs": [],
   "source": [
    "from spacy.tokens import DocBin\n",
    "\n",
    "nlp = spacy.load(\"en_core_web_md\")\n",
    "\n",
    "def create_spacy_data(data, out_path):\n",
    "  docs = []\n",
    "  for doc, label in nlp.pipe(data, as_tuples=True):\n",
    "    doc.cats['positive'] = 'pos'==label\n",
    "    doc.cats['negative'] = 'neg'==label\n",
    "    docs.append(doc)\n",
    "\n",
    "  doc_bin = DocBin(docs=docs)\n",
    "  doc_bin.to_disk(out_path)\n",
    "\n",
    "create_spacy_data(train[:5000],  './train.spacy')\n",
    "create_spacy_data(train[-5000:], './valid.spacy')"
   ]
  },
  {
   "cell_type": "markdown",
   "id": "f1c21c05-3ab0-4cfd-803f-02729dc76025",
   "metadata": {},
   "source": [
    "## 2.3 Training a spaCy TextCat Model\n",
    "\n",
    "After generating the spaCy-compliant binary document files, we will use the [spaCy config-file generator](https://spacy.io/usage/training) to specify the default text classification architecture. With only a couple of modifications, we will then be able to instruct spaCy to train our model via the CLI. After selecting the desired options, we will copy-paste the generated text called base_config.cfg. For the purposes of this course, this has been completed.\n",
    "\n",
    "\n",
    "![image.png](data:image/png;base64,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)\n",
    "\n",
    "\n",
    "Once the base_config.cfg has been generated, open the file and change\n",
    "\n",
    "```\n",
    "[paths]\n",
    "train = null\n",
    "dev = null\n",
    "```\n",
    "to\n",
    "```\n",
    "[paths]\n",
    "train = \"./train.spacy\"\n",
    "dev = \"./valid.spacy\"\n",
    "```"
   ]
  },
  {
   "cell_type": "code",
   "execution_count": 22,
   "id": "ba330e39-66a1-4ad4-a9dd-48dd99677a2d",
   "metadata": {},
   "outputs": [
    {
     "name": "stdout",
     "output_type": "stream",
     "text": [
      "\u001b[38;5;2m✔ Auto-filled config with all values\u001b[0m\n",
      "\u001b[38;5;2m✔ Saved config\u001b[0m\n",
      "config.cfg\n",
      "You can now add your data and train your pipeline:\n",
      "python -m spacy train config.cfg --paths.train ./train.spacy --paths.dev ./dev.spacy\n"
     ]
    }
   ],
   "source": [
    "!python -m spacy init fill-config ./base_config.cfg ./config.cfg"
   ]
  },
  {
   "cell_type": "code",
   "execution_count": 23,
   "id": "94994b82-2281-498b-826f-bef920815c1b",
   "metadata": {},
   "outputs": [
    {
     "name": "stdout",
     "output_type": "stream",
     "text": [
      "\u001b[38;5;2m✔ Created output directory: trained_textcat_model_rerun\u001b[0m\n",
      "\u001b[38;5;4mℹ Saving to output directory: trained_textcat_model_rerun\u001b[0m\n",
      "\u001b[38;5;4mℹ Using CPU\u001b[0m\n",
      "\u001b[1m\n",
      "=========================== Initializing pipeline ===========================\u001b[0m\n",
      "[2022-06-09 19:36:45,268] [INFO] Set up nlp object from config\n",
      "[2022-06-09 19:36:45,278] [INFO] Pipeline: ['textcat']\n",
      "[2022-06-09 19:36:45,282] [INFO] Created vocabulary\n",
      "[2022-06-09 19:36:45,283] [INFO] Finished initializing nlp object\n",
      "[2022-06-09 19:37:10,968] [INFO] Initialized pipeline components: ['textcat']\n",
      "\u001b[38;5;2m✔ Initialized pipeline\u001b[0m\n",
      "\u001b[1m\n",
      "============================= Training pipeline =============================\u001b[0m\n",
      "\u001b[38;5;4mℹ Pipeline: ['textcat']\u001b[0m\n",
      "\u001b[38;5;4mℹ Initial learn rate: 0.001\u001b[0m\n",
      "E    #       LOSS TEXTCAT  CATS_SCORE  SCORE \n",
      "---  ------  ------------  ----------  ------\n",
      "  0       0          0.50       33.57    0.34\n",
      "  0     200        121.90       65.52    0.66\n",
      "  0     400         92.75       74.99    0.75\n",
      "^C\n",
      "\n",
      "Aborted!\n"
     ]
    }
   ],
   "source": [
    "!python -m spacy train config.cfg --output ./trained_textcat_model_rerun"
   ]
  },
  {
   "cell_type": "markdown",
   "id": "7bbb6984-fee0-4f89-b09c-198c9fae2b9a",
   "metadata": {},
   "source": [
    "Let's evaluate how it performed."
   ]
  },
  {
   "cell_type": "code",
   "execution_count": 24,
   "id": "1817d0e4-792f-4162-8e56-090c426f4e4a",
   "metadata": {},
   "outputs": [
    {
     "name": "stdout",
     "output_type": "stream",
     "text": [
      "              precision    recall  f1-score   support\n",
      "\n",
      "         neg       0.88      0.84      0.86       505\n",
      "         pos       0.85      0.88      0.86       495\n",
      "\n",
      "    accuracy                           0.86      1000\n",
      "   macro avg       0.86      0.86      0.86      1000\n",
      "weighted avg       0.86      0.86      0.86      1000\n",
      "\n"
     ]
    }
   ],
   "source": [
    "from sklearn.metrics import classification_report\n",
    "\n",
    "nlp = spacy.load(\"./trained_textcat_model/model-best\")\n",
    "\n",
    "y_true = []\n",
    "y_pred = []\n",
    "for text, label in test[:1000]:\n",
    "  y_true.append(label)\n",
    "  if nlp(text).cats['positive']>0.5:\n",
    "    y_pred.append('pos')\n",
    "  else:\n",
    "    y_pred.append('neg')\n",
    "\n",
    "print(classification_report(y_true, y_pred))"
   ]
  }
 ],
 "metadata": {
  "kernelspec": {
   "display_name": "Python 3 (ipykernel)",
   "language": "python",
   "name": "python3"
  },
  "language_info": {
   "codemirror_mode": {
    "name": "ipython",
    "version": 3
   },
   "file_extension": ".py",
   "mimetype": "text/x-python",
   "name": "python",
   "nbconvert_exporter": "python",
   "pygments_lexer": "ipython3",
   "version": "3.9.7"
  }
 },
 "nbformat": 4,
 "nbformat_minor": 5
}
